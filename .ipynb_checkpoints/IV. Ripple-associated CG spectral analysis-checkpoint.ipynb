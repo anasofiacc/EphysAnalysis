{
 "cells": [
  {
   "cell_type": "markdown",
   "id": "ae8da2f8",
   "metadata": {},
   "source": [
    "# Ripple-associated CG spectral analysis\n",
    "https://github.com/Eden-Kramer-Lab/spectral_connectivity/blob/master/examples/Intro_tutorial.ipynb"
   ]
  },
  {
   "cell_type": "markdown",
   "id": "619b66bd",
   "metadata": {},
   "source": [
    "<br>\n",
    "\n",
    "### Imports"
   ]
  },
  {
   "cell_type": "code",
   "execution_count": 8,
   "id": "89a678e7",
   "metadata": {},
   "outputs": [],
   "source": [
    "import os\n",
    "import re\n",
    "import glob\n",
    "import pandas as pd\n",
    "import numpy as np\n",
    "import seaborn as sns\n",
    "from tqdm import tqdm\n",
    "import matplotlib.pyplot as plt\n",
    "%matplotlib inline\n",
    "import warnings\n",
    "from spectral_connectivity import Multitaper, Connectivity\n",
    "\n",
    "warnings.filterwarnings('ignore')"
   ]
  },
  {
   "cell_type": "markdown",
   "id": "44405987",
   "metadata": {},
   "source": [
    "<br>\n",
    "\n",
    "### Open datasets\n",
    "https://stackoverflow.com/questions/54615882/how-to-convert-a-pandas-multiindex-dataframe-into-a-3d-array"
   ]
  },
  {
   "cell_type": "code",
   "execution_count": 9,
   "id": "1aea1d5d",
   "metadata": {},
   "outputs": [],
   "source": [
    "main_path = 'PreProcessedData'\n",
    "cg_data = pd.read_csv(os.path.join(main_path, 'cg_data.csv'), index_col=False)\n",
    "ripple_data = pd.read_csv(os.path.join(main_path, 'cg_analysis_ripple_library.csv'), index_col=False)"
   ]
  },
  {
   "cell_type": "code",
   "execution_count": 11,
   "id": "7c7885cc",
   "metadata": {
    "scrolled": true
   },
   "outputs": [
    {
     "data": {
      "text/html": [
       "<div>\n",
       "<style scoped>\n",
       "    .dataframe tbody tr th:only-of-type {\n",
       "        vertical-align: middle;\n",
       "    }\n",
       "\n",
       "    .dataframe tbody tr th {\n",
       "        vertical-align: top;\n",
       "    }\n",
       "\n",
       "    .dataframe thead th {\n",
       "        text-align: right;\n",
       "    }\n",
       "</style>\n",
       "<table border=\"1\" class=\"dataframe\">\n",
       "  <thead>\n",
       "    <tr style=\"text-align: right;\">\n",
       "      <th></th>\n",
       "      <th>ripple_nr</th>\n",
       "      <th>timestamp</th>\n",
       "      <th>TT1</th>\n",
       "      <th>TT2</th>\n",
       "      <th>TT3</th>\n",
       "      <th>TT4</th>\n",
       "      <th>TT5</th>\n",
       "      <th>TT6</th>\n",
       "      <th>TT7</th>\n",
       "      <th>TT8</th>\n",
       "      <th>TT9</th>\n",
       "      <th>TT10</th>\n",
       "      <th>TT11</th>\n",
       "      <th>TT12</th>\n",
       "      <th>TT13</th>\n",
       "      <th>TT14</th>\n",
       "      <th>start_time</th>\n",
       "      <th>end_time</th>\n",
       "      <th>phase</th>\n",
       "      <th>relative_timestamp</th>\n",
       "    </tr>\n",
       "  </thead>\n",
       "  <tbody>\n",
       "    <tr>\n",
       "      <th>0</th>\n",
       "      <td>0</td>\n",
       "      <td>83.25725</td>\n",
       "      <td>151.905</td>\n",
       "      <td>105.105</td>\n",
       "      <td>158.730</td>\n",
       "      <td>191.685</td>\n",
       "      <td>-38.610</td>\n",
       "      <td>121.485</td>\n",
       "      <td>115.245</td>\n",
       "      <td>146.835</td>\n",
       "      <td>149.760</td>\n",
       "      <td>147.225</td>\n",
       "      <td>8.970</td>\n",
       "      <td>73.905</td>\n",
       "      <td>37.830</td>\n",
       "      <td>70.590</td>\n",
       "      <td>83.75725</td>\n",
       "      <td>83.81275</td>\n",
       "      <td>Sample</td>\n",
       "      <td>-0.5000</td>\n",
       "    </tr>\n",
       "    <tr>\n",
       "      <th>1</th>\n",
       "      <td>0</td>\n",
       "      <td>83.25775</td>\n",
       "      <td>144.495</td>\n",
       "      <td>125.190</td>\n",
       "      <td>151.515</td>\n",
       "      <td>148.980</td>\n",
       "      <td>-86.775</td>\n",
       "      <td>116.415</td>\n",
       "      <td>108.420</td>\n",
       "      <td>145.470</td>\n",
       "      <td>145.080</td>\n",
       "      <td>130.455</td>\n",
       "      <td>7.020</td>\n",
       "      <td>70.785</td>\n",
       "      <td>44.070</td>\n",
       "      <td>67.275</td>\n",
       "      <td>83.75725</td>\n",
       "      <td>83.81275</td>\n",
       "      <td>Sample</td>\n",
       "      <td>-0.4995</td>\n",
       "    </tr>\n",
       "    <tr>\n",
       "      <th>2</th>\n",
       "      <td>0</td>\n",
       "      <td>83.25825</td>\n",
       "      <td>76.440</td>\n",
       "      <td>95.940</td>\n",
       "      <td>108.420</td>\n",
       "      <td>106.470</td>\n",
       "      <td>-139.620</td>\n",
       "      <td>68.250</td>\n",
       "      <td>33.150</td>\n",
       "      <td>111.735</td>\n",
       "      <td>109.590</td>\n",
       "      <td>75.855</td>\n",
       "      <td>-79.755</td>\n",
       "      <td>15.405</td>\n",
       "      <td>12.870</td>\n",
       "      <td>23.010</td>\n",
       "      <td>83.75725</td>\n",
       "      <td>83.81275</td>\n",
       "      <td>Sample</td>\n",
       "      <td>-0.4990</td>\n",
       "    </tr>\n",
       "    <tr>\n",
       "      <th>3</th>\n",
       "      <td>0</td>\n",
       "      <td>83.25875</td>\n",
       "      <td>0.000</td>\n",
       "      <td>17.160</td>\n",
       "      <td>54.990</td>\n",
       "      <td>18.525</td>\n",
       "      <td>-220.155</td>\n",
       "      <td>-26.715</td>\n",
       "      <td>-52.455</td>\n",
       "      <td>40.365</td>\n",
       "      <td>65.520</td>\n",
       "      <td>-0.780</td>\n",
       "      <td>-129.870</td>\n",
       "      <td>-38.610</td>\n",
       "      <td>-71.955</td>\n",
       "      <td>-40.365</td>\n",
       "      <td>83.75725</td>\n",
       "      <td>83.81275</td>\n",
       "      <td>Sample</td>\n",
       "      <td>-0.4985</td>\n",
       "    </tr>\n",
       "    <tr>\n",
       "      <th>4</th>\n",
       "      <td>0</td>\n",
       "      <td>83.25925</td>\n",
       "      <td>-20.280</td>\n",
       "      <td>-10.920</td>\n",
       "      <td>28.665</td>\n",
       "      <td>15.795</td>\n",
       "      <td>-262.470</td>\n",
       "      <td>-54.015</td>\n",
       "      <td>-74.685</td>\n",
       "      <td>16.380</td>\n",
       "      <td>18.915</td>\n",
       "      <td>-39.585</td>\n",
       "      <td>-130.650</td>\n",
       "      <td>-69.615</td>\n",
       "      <td>-82.485</td>\n",
       "      <td>-88.140</td>\n",
       "      <td>83.75725</td>\n",
       "      <td>83.81275</td>\n",
       "      <td>Sample</td>\n",
       "      <td>-0.4980</td>\n",
       "    </tr>\n",
       "  </tbody>\n",
       "</table>\n",
       "</div>"
      ],
      "text/plain": [
       "   ripple_nr  timestamp      TT1      TT2      TT3      TT4      TT5      TT6  \\\n",
       "0          0   83.25725  151.905  105.105  158.730  191.685  -38.610  121.485   \n",
       "1          0   83.25775  144.495  125.190  151.515  148.980  -86.775  116.415   \n",
       "2          0   83.25825   76.440   95.940  108.420  106.470 -139.620   68.250   \n",
       "3          0   83.25875    0.000   17.160   54.990   18.525 -220.155  -26.715   \n",
       "4          0   83.25925  -20.280  -10.920   28.665   15.795 -262.470  -54.015   \n",
       "\n",
       "       TT7      TT8      TT9     TT10     TT11    TT12    TT13    TT14  \\\n",
       "0  115.245  146.835  149.760  147.225    8.970  73.905  37.830  70.590   \n",
       "1  108.420  145.470  145.080  130.455    7.020  70.785  44.070  67.275   \n",
       "2   33.150  111.735  109.590   75.855  -79.755  15.405  12.870  23.010   \n",
       "3  -52.455   40.365   65.520   -0.780 -129.870 -38.610 -71.955 -40.365   \n",
       "4  -74.685   16.380   18.915  -39.585 -130.650 -69.615 -82.485 -88.140   \n",
       "\n",
       "   start_time  end_time   phase  relative_timestamp  \n",
       "0    83.75725  83.81275  Sample             -0.5000  \n",
       "1    83.75725  83.81275  Sample             -0.4995  \n",
       "2    83.75725  83.81275  Sample             -0.4990  \n",
       "3    83.75725  83.81275  Sample             -0.4985  \n",
       "4    83.75725  83.81275  Sample             -0.4980  "
      ]
     },
     "execution_count": 11,
     "metadata": {},
     "output_type": "execute_result"
    }
   ],
   "source": [
    "cg_data.head()"
   ]
  },
  {
   "cell_type": "code",
   "execution_count": 29,
   "id": "9a086e9b",
   "metadata": {},
   "outputs": [
    {
     "data": {
      "text/plain": [
       "array([  0,   1,   2,   3,   4,   5,   6,   7,   8,   9,  10,  11,  12,\n",
       "        13,  14,  15,  16,  17,  18,  19,  20,  21,  22,  23,  24,  25,\n",
       "        26,  27,  28,  29,  30,  31,  32,  33,  34,  35,  36,  37,  38,\n",
       "        39,  40,  41,  42,  43,  44,  45,  46,  47,  48,  49,  50,  51,\n",
       "        52,  53,  54,  55,  56,  57,  58,  59,  60,  61,  62,  63,  64,\n",
       "        65,  66,  67,  68,  69,  70,  71,  72,  73,  74,  75,  76,  77,\n",
       "        78,  79,  80,  81,  82,  83,  84,  85,  86,  87,  88,  89,  90,\n",
       "        91,  92,  93,  94,  95,  96,  97,  98,  99, 100, 101, 102, 103,\n",
       "       104, 105, 106, 107, 108, 109, 110, 111, 112, 113, 114, 115, 116,\n",
       "       117, 118, 119, 120, 121, 122, 123, 124, 125, 126, 127, 128, 129,\n",
       "       130, 131, 132, 133, 134, 135, 136, 137, 138, 139, 140, 141, 142,\n",
       "       143, 144, 145, 146, 147, 148, 149, 150, 151, 152, 153, 154, 155,\n",
       "       156, 157, 158, 159, 160, 161, 162, 163, 164, 165, 166, 167, 168,\n",
       "       169, 170, 171, 172, 173, 174, 175, 176, 177, 178, 179, 180, 181,\n",
       "       182, 183, 184, 185, 186, 187, 188, 189, 190, 191, 192, 193, 194,\n",
       "       195, 196, 197, 198, 199, 200, 201, 202, 203, 204, 205, 206, 207,\n",
       "       208, 209, 210, 211, 212, 213, 214, 215, 216, 217, 218, 219, 220,\n",
       "       221, 222, 223, 224, 225, 226, 227, 228, 229, 230, 231, 232, 233,\n",
       "       234, 235, 236, 237, 238, 239, 240, 241, 242, 243, 244, 245, 246,\n",
       "       247, 248, 249, 250, 251, 252, 253, 254, 255, 256, 257, 258, 259,\n",
       "       260, 261, 262, 263, 264, 265, 266, 267, 268, 269, 270, 271, 272,\n",
       "       273, 274, 275, 276, 277, 278, 279, 280, 281, 282, 283, 284, 285,\n",
       "       286, 287, 288, 289, 290, 291, 292, 293, 294, 295, 296, 297, 298,\n",
       "       299, 300, 301, 302, 303, 304, 305, 306, 307, 308, 309, 310, 311,\n",
       "       312, 313, 314, 315, 316, 317, 318, 319, 320, 321, 322, 323, 324,\n",
       "       325, 326, 327, 328, 329, 330, 331, 332, 333, 334, 335, 336, 337,\n",
       "       338, 339, 340, 341, 342, 343, 344, 345, 346, 347, 348, 349, 350,\n",
       "       351, 352, 353, 354, 355, 356, 357, 358, 359, 360, 361, 362, 363,\n",
       "       364, 365, 366, 367, 368, 369, 370, 371, 372, 373, 374, 375, 376,\n",
       "       377, 378, 379, 380, 381, 382, 383, 384, 385, 386, 387, 388, 389,\n",
       "       390, 391, 392, 393, 394, 395, 396, 397, 398, 399, 400, 401, 402,\n",
       "       403, 404, 405, 406, 407, 408, 409, 410, 411, 412, 413, 414, 415,\n",
       "       416, 417, 418, 419, 420, 421, 422, 423, 424, 425, 426, 427, 428,\n",
       "       429, 430, 431, 432, 433, 434, 435, 436, 437, 438, 439, 440, 441,\n",
       "       442, 443, 444, 445, 446, 447, 448, 449, 450, 451, 452, 453, 454,\n",
       "       455, 456, 457, 458, 459, 460, 461, 462, 463, 464, 465, 466, 467,\n",
       "       468, 469, 470, 471, 472, 473, 474, 475, 476, 477, 478, 479, 480,\n",
       "       481, 482, 483, 484, 485, 486, 487, 488, 489, 490, 491, 492, 493,\n",
       "       494, 495, 496, 497, 498, 499, 500, 501, 502, 503, 504, 505, 506,\n",
       "       507, 508, 509, 510, 511, 512, 513, 514, 515, 516, 517, 518, 519,\n",
       "       520, 521, 522, 523, 524, 525, 526, 527, 528, 529, 530, 531, 532,\n",
       "       533, 534, 535, 536, 537, 538, 539, 540, 541, 542, 543, 544, 545,\n",
       "       546, 547, 548, 549, 550, 551, 552, 553, 554, 555, 556, 557, 558,\n",
       "       559, 560, 561, 562, 563, 564, 565, 566, 567, 568, 569, 570, 571,\n",
       "       572, 573, 574, 575, 576, 577, 578, 579, 580, 581, 582, 583, 584,\n",
       "       585, 586, 587, 588, 589, 590, 591, 592, 593, 594, 595, 596, 597,\n",
       "       598, 599, 600, 601, 602, 603, 604, 605, 606, 607, 608, 609, 610,\n",
       "       611, 612, 613, 614, 615, 616, 617, 618, 619, 620, 621, 622, 623,\n",
       "       624, 625, 626, 627])"
      ]
     },
     "execution_count": 29,
     "metadata": {},
     "output_type": "execute_result"
    }
   ],
   "source": [
    "cg_data.ripple_nr.unique()"
   ]
  },
  {
   "cell_type": "markdown",
   "id": "8946ba77",
   "metadata": {},
   "source": [
    "<br>\n",
    "\n",
    "## Prepare data for multitaper\n",
    "\n",
    "\"If we have three dimensions, dimension 1 is time, dimension 2 is trials, and dimensions 3 is signals. It is important to know note that dimension 2 now has a different meaning in that it represents trials and not signals now. Dimension 3 is now the signals dimension. We will show an example of this later.\"\n",
    "\n",
    "time_series : array, shape (n_time_samples, n_trials, n_signals)"
   ]
  },
  {
   "cell_type": "markdown",
   "id": "7b52a8a6",
   "metadata": {},
   "source": [
    "#### Add bin centres "
   ]
  },
  {
   "cell_type": "code",
   "execution_count": null,
   "id": "4fb1f9bb",
   "metadata": {},
   "outputs": [],
   "source": []
  },
  {
   "cell_type": "markdown",
   "id": "e80e6fc8",
   "metadata": {},
   "source": [
    "#### Remove uneeded columns"
   ]
  },
  {
   "cell_type": "code",
   "execution_count": null,
   "id": "1dac5558",
   "metadata": {},
   "outputs": [],
   "source": []
  },
  {
   "cell_type": "markdown",
   "id": "503d9960",
   "metadata": {},
   "source": [
    "#### Split datasets by phase"
   ]
  },
  {
   "cell_type": "code",
   "execution_count": 15,
   "id": "c538070c",
   "metadata": {},
   "outputs": [],
   "source": [
    "sample_data = cg_data[cg_data.phase == 'Sample'].dr"
   ]
  },
  {
   "cell_type": "code",
   "execution_count": 41,
   "id": "e7785acf",
   "metadata": {},
   "outputs": [],
   "source": [
    "test =cg_data.loc[cg_data['ripple_nr'].between(0,5), ['ripple_nr', 'TT1', 'TT2']]"
   ]
  },
  {
   "cell_type": "code",
   "execution_count": 50,
   "id": "c784b6ce",
   "metadata": {},
   "outputs": [
    {
     "data": {
      "text/html": [
       "<div>\n",
       "<style scoped>\n",
       "    .dataframe tbody tr th:only-of-type {\n",
       "        vertical-align: middle;\n",
       "    }\n",
       "\n",
       "    .dataframe tbody tr th {\n",
       "        vertical-align: top;\n",
       "    }\n",
       "\n",
       "    .dataframe thead th {\n",
       "        text-align: right;\n",
       "    }\n",
       "</style>\n",
       "<table border=\"1\" class=\"dataframe\">\n",
       "  <thead>\n",
       "    <tr style=\"text-align: right;\">\n",
       "      <th></th>\n",
       "      <th>ripple_nr</th>\n",
       "      <th>TT1</th>\n",
       "      <th>TT2</th>\n",
       "    </tr>\n",
       "  </thead>\n",
       "  <tbody>\n",
       "    <tr>\n",
       "      <th>0</th>\n",
       "      <td>0</td>\n",
       "      <td>151.905</td>\n",
       "      <td>105.105</td>\n",
       "    </tr>\n",
       "    <tr>\n",
       "      <th>1</th>\n",
       "      <td>0</td>\n",
       "      <td>144.495</td>\n",
       "      <td>125.190</td>\n",
       "    </tr>\n",
       "    <tr>\n",
       "      <th>2</th>\n",
       "      <td>0</td>\n",
       "      <td>76.440</td>\n",
       "      <td>95.940</td>\n",
       "    </tr>\n",
       "    <tr>\n",
       "      <th>3</th>\n",
       "      <td>0</td>\n",
       "      <td>0.000</td>\n",
       "      <td>17.160</td>\n",
       "    </tr>\n",
       "    <tr>\n",
       "      <th>4</th>\n",
       "      <td>0</td>\n",
       "      <td>-20.280</td>\n",
       "      <td>-10.920</td>\n",
       "    </tr>\n",
       "    <tr>\n",
       "      <th>...</th>\n",
       "      <td>...</td>\n",
       "      <td>...</td>\n",
       "      <td>...</td>\n",
       "    </tr>\n",
       "    <tr>\n",
       "      <th>12001</th>\n",
       "      <td>5</td>\n",
       "      <td>-69.615</td>\n",
       "      <td>-83.070</td>\n",
       "    </tr>\n",
       "    <tr>\n",
       "      <th>12002</th>\n",
       "      <td>5</td>\n",
       "      <td>-65.520</td>\n",
       "      <td>-104.715</td>\n",
       "    </tr>\n",
       "    <tr>\n",
       "      <th>12003</th>\n",
       "      <td>5</td>\n",
       "      <td>-41.340</td>\n",
       "      <td>-92.040</td>\n",
       "    </tr>\n",
       "    <tr>\n",
       "      <th>12004</th>\n",
       "      <td>5</td>\n",
       "      <td>-65.325</td>\n",
       "      <td>-155.415</td>\n",
       "    </tr>\n",
       "    <tr>\n",
       "      <th>12005</th>\n",
       "      <td>5</td>\n",
       "      <td>-69.225</td>\n",
       "      <td>-139.035</td>\n",
       "    </tr>\n",
       "  </tbody>\n",
       "</table>\n",
       "<p>12006 rows × 3 columns</p>\n",
       "</div>"
      ],
      "text/plain": [
       "       ripple_nr      TT1      TT2\n",
       "0              0  151.905  105.105\n",
       "1              0  144.495  125.190\n",
       "2              0   76.440   95.940\n",
       "3              0    0.000   17.160\n",
       "4              0  -20.280  -10.920\n",
       "...          ...      ...      ...\n",
       "12001          5  -69.615  -83.070\n",
       "12002          5  -65.520 -104.715\n",
       "12003          5  -41.340  -92.040\n",
       "12004          5  -65.325 -155.415\n",
       "12005          5  -69.225 -139.035\n",
       "\n",
       "[12006 rows x 3 columns]"
      ]
     },
     "execution_count": 50,
     "metadata": {},
     "output_type": "execute_result"
    }
   ],
   "source": [
    "test"
   ]
  },
  {
   "cell_type": "markdown",
   "id": "9a1f0fdf",
   "metadata": {},
   "source": [
    "#### Reshape"
   ]
  },
  {
   "cell_type": "code",
   "execution_count": 19,
   "id": "43ebdf77",
   "metadata": {},
   "outputs": [],
   "source": []
  },
  {
   "cell_type": "code",
   "execution_count": null,
   "id": "5cbdaaa3",
   "metadata": {},
   "outputs": [],
   "source": []
  },
  {
   "cell_type": "code",
   "execution_count": null,
   "id": "6b9f471b",
   "metadata": {},
   "outputs": [],
   "source": [
    "#time_series : array, shape (n_time_samples, n_trials, n_signals)\n",
    "#Voltage in an array like\n",
    "#(n_time_points, n_ripples, )"
   ]
  },
  {
   "cell_type": "markdown",
   "id": "c0c79278",
   "metadata": {},
   "source": [
    "<br>\n",
    "\n",
    "### Create multitaper object"
   ]
  },
  {
   "cell_type": "code",
   "execution_count": null,
   "id": "51bd6c8a",
   "metadata": {},
   "outputs": [],
   "source": [
    "# Number of samples per time unit the signal(s) are recorded at\n",
    "sampling_frequency = 3000\n",
    "\n",
    "# Controls the duration of the segment of time the transformation is computed on (seconds)\n",
    "time_window_duration = 0.1\n",
    "\n",
    "# Control how far the time window is slid (overlap).\n",
    "# Setting the step to smaller than the time window duration will make the time windows overlap\n",
    "time_window_step = 0.1 # No overalap\n",
    "\n",
    "# Controls the frequency resolution of the Fourier transformed signal.\n",
    "# Setting this parameter will define the default number of tapers used in the transform \n",
    "# (number of tapers = 2 * time_halfbandwidth_product - 1.).\n",
    "time_halfbandwidth_product =   # Need to study this one"
   ]
  },
  {
   "cell_type": "code",
   "execution_count": 6,
   "id": "eeed8a06",
   "metadata": {},
   "outputs": [],
   "source": [
    "#Multitaper?"
   ]
  },
  {
   "cell_type": "code",
   "execution_count": null,
   "id": "cb7d6203",
   "metadata": {},
   "outputs": [],
   "source": [
    "multitaper = Multitaper(\n",
    "    signal, \n",
    "    sampling_frequency=sampling_frequency, \n",
    "    time_halfbandwidth_product= time_halfbandwidth_product\n",
    ")"
   ]
  },
  {
   "cell_type": "code",
   "execution_count": null,
   "id": "6d690e17",
   "metadata": {},
   "outputs": [],
   "source": [
    "multitaper"
   ]
  },
  {
   "cell_type": "markdown",
   "id": "45aa6bc0",
   "metadata": {},
   "source": [
    "<br>\n",
    "\n",
    "### Create connectivity object\n",
    "The Connectivity class computes the frequency-domain connectivity measures from the Fourier coeffcients."
   ]
  },
  {
   "cell_type": "code",
   "execution_count": null,
   "id": "6c130915",
   "metadata": {},
   "outputs": [],
   "source": []
  },
  {
   "cell_type": "code",
   "execution_count": null,
   "id": "de79a237",
   "metadata": {},
   "outputs": [],
   "source": []
  },
  {
   "cell_type": "markdown",
   "id": "8ee43e3d",
   "metadata": {},
   "source": [
    "### Power spectral density plot - Heatmap"
   ]
  },
  {
   "cell_type": "code",
   "execution_count": 3,
   "id": "3ab43ca5",
   "metadata": {},
   "outputs": [],
   "source": [
    "# PSD plot - Averaged across tetrodes (14 tetrodes = 1 response)   -- PEDING TO AFTER CHECKING VARIABILITY\n",
    "# 1 plot per SWR location"
   ]
  },
  {
   "cell_type": "code",
   "execution_count": null,
   "id": "1d09c2e6",
   "metadata": {},
   "outputs": [],
   "source": []
  },
  {
   "cell_type": "code",
   "execution_count": null,
   "id": "8d8a49c0",
   "metadata": {},
   "outputs": [],
   "source": []
  },
  {
   "cell_type": "code",
   "execution_count": null,
   "id": "e50a6414",
   "metadata": {},
   "outputs": [],
   "source": []
  }
 ],
 "metadata": {
  "kernelspec": {
   "display_name": "Python 3 (ipykernel)",
   "language": "python",
   "name": "python3"
  },
  "language_info": {
   "codemirror_mode": {
    "name": "ipython",
    "version": 3
   },
   "file_extension": ".py",
   "mimetype": "text/x-python",
   "name": "python",
   "nbconvert_exporter": "python",
   "pygments_lexer": "ipython3",
   "version": "3.11.4"
  }
 },
 "nbformat": 4,
 "nbformat_minor": 5
}
