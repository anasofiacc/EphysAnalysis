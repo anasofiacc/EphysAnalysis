{
 "cells": [
  {
   "cell_type": "markdown",
   "id": "ae8da2f8",
   "metadata": {},
   "source": [
    "# Ripple-associated CG spectral analysis\n",
    "https://github.com/Eden-Kramer-Lab/spectral_connectivity/blob/master/examples/Intro_tutorial.ipynb"
   ]
  },
  {
   "cell_type": "markdown",
   "id": "619b66bd",
   "metadata": {},
   "source": [
    "<br>\n",
    "\n",
    "### Imports"
   ]
  },
  {
   "cell_type": "code",
   "execution_count": 1,
   "id": "89a678e7",
   "metadata": {},
   "outputs": [],
   "source": [
    "import os\n",
    "import re\n",
    "import glob\n",
    "import pandas as pd\n",
    "import numpy as np\n",
    "import seaborn as sns\n",
    "from tqdm import tqdm\n",
    "import matplotlib.pyplot as plt\n",
    "%matplotlib inline\n",
    "import warnings\n",
    "from spectral_connectivity import Multitaper, Connectivity\n",
    "\n",
    "warnings.filterwarnings('ignore')"
   ]
  },
  {
   "cell_type": "markdown",
   "id": "44405987",
   "metadata": {},
   "source": [
    "<br>\n",
    "\n",
    "### Open datasets"
   ]
  },
  {
   "cell_type": "code",
   "execution_count": 2,
   "id": "1aea1d5d",
   "metadata": {},
   "outputs": [],
   "source": [
    "main_path = 'PreProcessedData'\n",
    "cg_data = pd.read_csv(os.path.join(main_path, 'cg_data.csv'), index_col=False)\n",
    "ripple_data = pd.read_csv(os.path.join(main_path, 'cg_analysis_ripple_library.csv'), index_col=False)"
   ]
  },
  {
   "cell_type": "code",
   "execution_count": 3,
   "id": "7c7885cc",
   "metadata": {
    "scrolled": true
   },
   "outputs": [
    {
     "data": {
      "text/html": [
       "<div>\n",
       "<style scoped>\n",
       "    .dataframe tbody tr th:only-of-type {\n",
       "        vertical-align: middle;\n",
       "    }\n",
       "\n",
       "    .dataframe tbody tr th {\n",
       "        vertical-align: top;\n",
       "    }\n",
       "\n",
       "    .dataframe thead th {\n",
       "        text-align: right;\n",
       "    }\n",
       "</style>\n",
       "<table border=\"1\" class=\"dataframe\">\n",
       "  <thead>\n",
       "    <tr style=\"text-align: right;\">\n",
       "      <th></th>\n",
       "      <th>ripple_nr</th>\n",
       "      <th>timestamp</th>\n",
       "      <th>TT1</th>\n",
       "      <th>TT2</th>\n",
       "      <th>TT3</th>\n",
       "      <th>TT4</th>\n",
       "      <th>TT5</th>\n",
       "      <th>TT6</th>\n",
       "      <th>TT7</th>\n",
       "      <th>TT8</th>\n",
       "      <th>TT9</th>\n",
       "      <th>TT10</th>\n",
       "      <th>TT11</th>\n",
       "      <th>TT12</th>\n",
       "      <th>TT13</th>\n",
       "      <th>TT14</th>\n",
       "      <th>start_time</th>\n",
       "      <th>end_time</th>\n",
       "      <th>phase</th>\n",
       "      <th>relative_timestamp</th>\n",
       "    </tr>\n",
       "  </thead>\n",
       "  <tbody>\n",
       "    <tr>\n",
       "      <th>0</th>\n",
       "      <td>0</td>\n",
       "      <td>83.25725</td>\n",
       "      <td>151.905</td>\n",
       "      <td>105.105</td>\n",
       "      <td>158.730</td>\n",
       "      <td>191.685</td>\n",
       "      <td>-38.610</td>\n",
       "      <td>121.485</td>\n",
       "      <td>115.245</td>\n",
       "      <td>146.835</td>\n",
       "      <td>149.760</td>\n",
       "      <td>147.225</td>\n",
       "      <td>8.970</td>\n",
       "      <td>73.905</td>\n",
       "      <td>37.830</td>\n",
       "      <td>70.590</td>\n",
       "      <td>83.75725</td>\n",
       "      <td>83.81275</td>\n",
       "      <td>Sample</td>\n",
       "      <td>-0.5000</td>\n",
       "    </tr>\n",
       "    <tr>\n",
       "      <th>1</th>\n",
       "      <td>0</td>\n",
       "      <td>83.25775</td>\n",
       "      <td>144.495</td>\n",
       "      <td>125.190</td>\n",
       "      <td>151.515</td>\n",
       "      <td>148.980</td>\n",
       "      <td>-86.775</td>\n",
       "      <td>116.415</td>\n",
       "      <td>108.420</td>\n",
       "      <td>145.470</td>\n",
       "      <td>145.080</td>\n",
       "      <td>130.455</td>\n",
       "      <td>7.020</td>\n",
       "      <td>70.785</td>\n",
       "      <td>44.070</td>\n",
       "      <td>67.275</td>\n",
       "      <td>83.75725</td>\n",
       "      <td>83.81275</td>\n",
       "      <td>Sample</td>\n",
       "      <td>-0.4995</td>\n",
       "    </tr>\n",
       "    <tr>\n",
       "      <th>2</th>\n",
       "      <td>0</td>\n",
       "      <td>83.25825</td>\n",
       "      <td>76.440</td>\n",
       "      <td>95.940</td>\n",
       "      <td>108.420</td>\n",
       "      <td>106.470</td>\n",
       "      <td>-139.620</td>\n",
       "      <td>68.250</td>\n",
       "      <td>33.150</td>\n",
       "      <td>111.735</td>\n",
       "      <td>109.590</td>\n",
       "      <td>75.855</td>\n",
       "      <td>-79.755</td>\n",
       "      <td>15.405</td>\n",
       "      <td>12.870</td>\n",
       "      <td>23.010</td>\n",
       "      <td>83.75725</td>\n",
       "      <td>83.81275</td>\n",
       "      <td>Sample</td>\n",
       "      <td>-0.4990</td>\n",
       "    </tr>\n",
       "    <tr>\n",
       "      <th>3</th>\n",
       "      <td>0</td>\n",
       "      <td>83.25875</td>\n",
       "      <td>0.000</td>\n",
       "      <td>17.160</td>\n",
       "      <td>54.990</td>\n",
       "      <td>18.525</td>\n",
       "      <td>-220.155</td>\n",
       "      <td>-26.715</td>\n",
       "      <td>-52.455</td>\n",
       "      <td>40.365</td>\n",
       "      <td>65.520</td>\n",
       "      <td>-0.780</td>\n",
       "      <td>-129.870</td>\n",
       "      <td>-38.610</td>\n",
       "      <td>-71.955</td>\n",
       "      <td>-40.365</td>\n",
       "      <td>83.75725</td>\n",
       "      <td>83.81275</td>\n",
       "      <td>Sample</td>\n",
       "      <td>-0.4985</td>\n",
       "    </tr>\n",
       "    <tr>\n",
       "      <th>4</th>\n",
       "      <td>0</td>\n",
       "      <td>83.25925</td>\n",
       "      <td>-20.280</td>\n",
       "      <td>-10.920</td>\n",
       "      <td>28.665</td>\n",
       "      <td>15.795</td>\n",
       "      <td>-262.470</td>\n",
       "      <td>-54.015</td>\n",
       "      <td>-74.685</td>\n",
       "      <td>16.380</td>\n",
       "      <td>18.915</td>\n",
       "      <td>-39.585</td>\n",
       "      <td>-130.650</td>\n",
       "      <td>-69.615</td>\n",
       "      <td>-82.485</td>\n",
       "      <td>-88.140</td>\n",
       "      <td>83.75725</td>\n",
       "      <td>83.81275</td>\n",
       "      <td>Sample</td>\n",
       "      <td>-0.4980</td>\n",
       "    </tr>\n",
       "  </tbody>\n",
       "</table>\n",
       "</div>"
      ],
      "text/plain": [
       "   ripple_nr  timestamp      TT1      TT2      TT3      TT4      TT5      TT6  \\\n",
       "0          0   83.25725  151.905  105.105  158.730  191.685  -38.610  121.485   \n",
       "1          0   83.25775  144.495  125.190  151.515  148.980  -86.775  116.415   \n",
       "2          0   83.25825   76.440   95.940  108.420  106.470 -139.620   68.250   \n",
       "3          0   83.25875    0.000   17.160   54.990   18.525 -220.155  -26.715   \n",
       "4          0   83.25925  -20.280  -10.920   28.665   15.795 -262.470  -54.015   \n",
       "\n",
       "       TT7      TT8      TT9     TT10     TT11    TT12    TT13    TT14  \\\n",
       "0  115.245  146.835  149.760  147.225    8.970  73.905  37.830  70.590   \n",
       "1  108.420  145.470  145.080  130.455    7.020  70.785  44.070  67.275   \n",
       "2   33.150  111.735  109.590   75.855  -79.755  15.405  12.870  23.010   \n",
       "3  -52.455   40.365   65.520   -0.780 -129.870 -38.610 -71.955 -40.365   \n",
       "4  -74.685   16.380   18.915  -39.585 -130.650 -69.615 -82.485 -88.140   \n",
       "\n",
       "   start_time  end_time   phase  relative_timestamp  \n",
       "0    83.75725  83.81275  Sample             -0.5000  \n",
       "1    83.75725  83.81275  Sample             -0.4995  \n",
       "2    83.75725  83.81275  Sample             -0.4990  \n",
       "3    83.75725  83.81275  Sample             -0.4985  \n",
       "4    83.75725  83.81275  Sample             -0.4980  "
      ]
     },
     "execution_count": 3,
     "metadata": {},
     "output_type": "execute_result"
    }
   ],
   "source": [
    "cg_data.head()"
   ]
  },
  {
   "cell_type": "code",
   "execution_count": 4,
   "id": "444e361d",
   "metadata": {},
   "outputs": [
    {
     "data": {
      "text/plain": [
       "phase\n",
       "Delay                 143\n",
       "ITI                   104\n",
       "Sample                200\n",
       "Test (Past-choice)    177\n",
       "Test (Pre-choice)       4\n",
       "Name: ripple_nr, dtype: int64"
      ]
     },
     "execution_count": 4,
     "metadata": {},
     "output_type": "execute_result"
    }
   ],
   "source": [
    "cg_data.groupby(['phase']).ripple_nr.nunique()"
   ]
  },
  {
   "cell_type": "markdown",
   "id": "8946ba77",
   "metadata": {},
   "source": [
    "<br>\n",
    "\n",
    "## Prepare data for multitaper\n",
    "\n",
    "\"If we have three dimensions, dimension 1 is time, dimension 2 is trials, and dimensions 3 is signals. It is important to know note that dimension 2 now has a different meaning in that it represents trials and not signals now. Dimension 3 is now the signals dimension. We will show an example of this later.\"\n",
    "\n",
    "time_series : array, shape (n_time_samples, n_trials, n_signals)"
   ]
  },
  {
   "cell_type": "code",
   "execution_count": 5,
   "id": "367b109e",
   "metadata": {},
   "outputs": [],
   "source": [
    "cg_data.loc[(cg_data['phase']=='Test (Pre-choice)')|(cg_data['phase']=='Test (Past-choice)'), 'phase']='Test'"
   ]
  },
  {
   "cell_type": "code",
   "execution_count": 6,
   "id": "4fb1f9bb",
   "metadata": {},
   "outputs": [],
   "source": [
    "# Split data by phase\n",
    "\n",
    "### WORK WITh FIRST RIPPLES WITh SAMPLE RATE AT 2K FOR NOW\n",
    "##test = cg_data[cg_data.ripple_nr.between(0,74)]\n",
    "sample_df = cg_data.loc[cg_data['phase']=='Sample'].drop(['phase'], axis=1)\n",
    "delay_df = cg_data.loc[cg_data['phase']=='Delay'].drop(['phase'], axis=1)\n",
    "test_df = cg_data.loc[cg_data['phase']=='Test'].drop(['phase'], axis=1)\n",
    "iti_df = cg_data.loc[cg_data['phase']=='ITI'].drop(['phase'], axis=1)"
   ]
  },
  {
   "cell_type": "code",
   "execution_count": 7,
   "id": "8a502b3c",
   "metadata": {},
   "outputs": [],
   "source": [
    "def prepare_for_multitaper(df, n_tts):\n",
    "    '''\n",
    "    Rearrange and prepare data for multitaper.\n",
    "    df, Dataframe. \n",
    "    n_tts, int - Number of tetrodes (may vary with dataset)\n",
    "    '''\n",
    "    \n",
    "    # Normalise relative timestamp to correct small jitters\n",
    "    #df['relative_timestamp']=df.relative_timestamp.round(8)\n",
    "\n",
    "    # Drop unecessary columns\n",
    "    to_drop = ['start_time', 'end_time','timestamp']\n",
    "    df = df.drop(to_drop, axis=1)\n",
    "\n",
    "    # Create TT list\n",
    "    tts = ['TT{}'.format(x) for x in range(1,n_tts+1)]\n",
    "    \n",
    "    # Re-shape dataset into array\n",
    "    \n",
    "    reshaped = df.pivot(\n",
    "        index=\"relative_timestamp\", \n",
    "        columns=\"ripple_nr\", \n",
    "        values=tts,\n",
    "    ).values.reshape(\n",
    "        (\n",
    "        df['relative_timestamp'].unique().size,\n",
    "        df['ripple_nr'].unique().size,\n",
    "        n_tts\n",
    "        )\n",
    "    )\n",
    "    \n",
    "    return reshaped"
   ]
  },
  {
   "cell_type": "code",
   "execution_count": 8,
   "id": "c784b6ce",
   "metadata": {},
   "outputs": [],
   "source": [
    "sample_array = prepare_for_multitaper(sample_df, 14)\n",
    "iti_array = prepare_for_multitaper(iti_df, 14)\n",
    "test_array = prepare_for_multitaper(test_df, 14)\n",
    "delay_array = prepare_for_multitaper(delay_df, 14)"
   ]
  },
  {
   "cell_type": "code",
   "execution_count": 9,
   "id": "231360f9",
   "metadata": {},
   "outputs": [
    {
     "name": "stdout",
     "output_type": "stream",
     "text": [
      "(43531, 200, 14) (36653, 143, 14) (36917, 181, 14) (37045, 104, 14)\n"
     ]
    }
   ],
   "source": [
    "print( sample_array.shape, delay_array.shape, test_array.shape, iti_array.shape)"
   ]
  },
  {
   "cell_type": "markdown",
   "id": "c0c79278",
   "metadata": {},
   "source": [
    "<br>\n",
    "\n",
    "### Create multitaper object"
   ]
  },
  {
   "cell_type": "code",
   "execution_count": 27,
   "id": "51bd6c8a",
   "metadata": {},
   "outputs": [],
   "source": [
    "# Number of samples per time unit the signal(s) are recorded at\n",
    "sampling_frequency = 2001    \n",
    "\n",
    "# Controls the duration of the segment of time the transformation is computed on (seconds)\n",
    "time_window_duration = 0.1\n",
    "\n",
    "# Control how far the time window is slid (overlap).\n",
    "# Setting the step to smaller than the time window duration will make the time windows overlap\n",
    "time_window_step = 0.02\n",
    "\n",
    "# Controls the frequency resolution of the Fourier transformed signal.\n",
    "# Setting this parameter will define the default number of tapers used in the transform \n",
    "# (number of tapers = 2 * time_halfbandwidth_product - 1.).\n",
    " # Need to study this one although setting the above automatically changes this one\n",
    "#time_halfbandwidth_product = 10 "
   ]
  },
  {
   "cell_type": "code",
   "execution_count": 28,
   "id": "cb7d6203",
   "metadata": {},
   "outputs": [
    {
     "data": {
      "text/plain": [
       "Multitaper(sampling_frequency=2001, time_halfbandwidth_product=3,\n",
       "           time_window_duration=0.1, time_window_step=0.02,\n",
       "           detrend_type='constant', start_time=0, n_tapers=5)"
      ]
     },
     "execution_count": 28,
     "metadata": {},
     "output_type": "execute_result"
    }
   ],
   "source": [
    "sample_multitaper = Multitaper(\n",
    "    sample_array, \n",
    "    sampling_frequency=sampling_frequency, \n",
    "    time_window_duration = time_window_duration,\n",
    "    time_window_step = time_window_step#,\n",
    "    #time_halfbandwidth_product= time_halfbandwidth_product\n",
    ")\n",
    "\n",
    "sample_multitaper"
   ]
  },
  {
   "cell_type": "code",
   "execution_count": 29,
   "id": "f1877ee4",
   "metadata": {},
   "outputs": [
    {
     "data": {
      "text/plain": [
       "200"
      ]
     },
     "execution_count": 29,
     "metadata": {},
     "output_type": "execute_result"
    }
   ],
   "source": [
    "sample_multitaper.n_time_samples_per_window"
   ]
  },
  {
   "cell_type": "code",
   "execution_count": 30,
   "id": "fee4dba1",
   "metadata": {},
   "outputs": [
    {
     "data": {
      "text/plain": [
       "array([    0.   ,    10.005,    20.01 ,    30.015,    40.02 ,    50.025,\n",
       "          60.03 ,    70.035,    80.04 ,    90.045,   100.05 ,   110.055,\n",
       "         120.06 ,   130.065,   140.07 ,   150.075,   160.08 ,   170.085,\n",
       "         180.09 ,   190.095,   200.1  ,   210.105,   220.11 ,   230.115,\n",
       "         240.12 ,   250.125,   260.13 ,   270.135,   280.14 ,   290.145,\n",
       "         300.15 ,   310.155,   320.16 ,   330.165,   340.17 ,   350.175,\n",
       "         360.18 ,   370.185,   380.19 ,   390.195,   400.2  ,   410.205,\n",
       "         420.21 ,   430.215,   440.22 ,   450.225,   460.23 ,   470.235,\n",
       "         480.24 ,   490.245,   500.25 ,   510.255,   520.26 ,   530.265,\n",
       "         540.27 ,   550.275,   560.28 ,   570.285,   580.29 ,   590.295,\n",
       "         600.3  ,   610.305,   620.31 ,   630.315,   640.32 ,   650.325,\n",
       "         660.33 ,   670.335,   680.34 ,   690.345,   700.35 ,   710.355,\n",
       "         720.36 ,   730.365,   740.37 ,   750.375,   760.38 ,   770.385,\n",
       "         780.39 ,   790.395,   800.4  ,   810.405,   820.41 ,   830.415,\n",
       "         840.42 ,   850.425,   860.43 ,   870.435,   880.44 ,   890.445,\n",
       "         900.45 ,   910.455,   920.46 ,   930.465,   940.47 ,   950.475,\n",
       "         960.48 ,   970.485,   980.49 ,   990.495, -1000.5  ,  -990.495,\n",
       "        -980.49 ,  -970.485,  -960.48 ,  -950.475,  -940.47 ,  -930.465,\n",
       "        -920.46 ,  -910.455,  -900.45 ,  -890.445,  -880.44 ,  -870.435,\n",
       "        -860.43 ,  -850.425,  -840.42 ,  -830.415,  -820.41 ,  -810.405,\n",
       "        -800.4  ,  -790.395,  -780.39 ,  -770.385,  -760.38 ,  -750.375,\n",
       "        -740.37 ,  -730.365,  -720.36 ,  -710.355,  -700.35 ,  -690.345,\n",
       "        -680.34 ,  -670.335,  -660.33 ,  -650.325,  -640.32 ,  -630.315,\n",
       "        -620.31 ,  -610.305,  -600.3  ,  -590.295,  -580.29 ,  -570.285,\n",
       "        -560.28 ,  -550.275,  -540.27 ,  -530.265,  -520.26 ,  -510.255,\n",
       "        -500.25 ,  -490.245,  -480.24 ,  -470.235,  -460.23 ,  -450.225,\n",
       "        -440.22 ,  -430.215,  -420.21 ,  -410.205,  -400.2  ,  -390.195,\n",
       "        -380.19 ,  -370.185,  -360.18 ,  -350.175,  -340.17 ,  -330.165,\n",
       "        -320.16 ,  -310.155,  -300.15 ,  -290.145,  -280.14 ,  -270.135,\n",
       "        -260.13 ,  -250.125,  -240.12 ,  -230.115,  -220.11 ,  -210.105,\n",
       "        -200.1  ,  -190.095,  -180.09 ,  -170.085,  -160.08 ,  -150.075,\n",
       "        -140.07 ,  -130.065,  -120.06 ,  -110.055,  -100.05 ,   -90.045,\n",
       "         -80.04 ,   -70.035,   -60.03 ,   -50.025,   -40.02 ,   -30.015,\n",
       "         -20.01 ,   -10.005])"
      ]
     },
     "execution_count": 30,
     "metadata": {},
     "output_type": "execute_result"
    }
   ],
   "source": [
    "sample_multitaper.frequencies"
   ]
  },
  {
   "cell_type": "markdown",
   "id": "45aa6bc0",
   "metadata": {},
   "source": [
    "<br>\n",
    "\n",
    "### Create connectivity object\n",
    "The Connectivity class computes the frequency-domain connectivity measures from the Fourier coeffcients."
   ]
  },
  {
   "cell_type": "code",
   "execution_count": 31,
   "id": "6c130915",
   "metadata": {},
   "outputs": [],
   "source": [
    "# expectation_type defines the dimensions of the cross-spectrum that are averaged over.\n",
    "# Can be over time, trials, tapers or any combination of two or three. Default is by trials and tapers\n",
    "expectation_type = \"trials_tapers\"\n",
    "\n",
    "# Blocks is used to process metrics by array blocks is RAM is too expensive\n",
    "blocks=3"
   ]
  },
  {
   "cell_type": "code",
   "execution_count": null,
   "id": "de79a237",
   "metadata": {},
   "outputs": [],
   "source": [
    "conn = Connectivity.from_multitaper(\n",
    "    sample_multitaper, \n",
    "    expectation_type=expectation_type, \n",
    "    blocks=blocks\n",
    ")"
   ]
  },
  {
   "cell_type": "code",
   "execution_count": null,
   "id": "65b86091",
   "metadata": {},
   "outputs": [],
   "source": [
    "power = (conn.power())\n",
    "power.shape #(n time winodws, frequencies, n_tetrodes)"
   ]
  },
  {
   "cell_type": "markdown",
   "id": "8ee43e3d",
   "metadata": {},
   "source": [
    "### Power spectral density plot - Heatmap"
   ]
  },
  {
   "cell_type": "code",
   "execution_count": 3,
   "id": "3ab43ca5",
   "metadata": {},
   "outputs": [],
   "source": [
    "# PSD plot - Averaged across tetrodes (14 tetrodes = 1 response)   -- PEDING TO AFTER CHECKING VARIABILITY\n",
    "# 1 plot per SWR location"
   ]
  },
  {
   "cell_type": "code",
   "execution_count": null,
   "id": "1d09c2e6",
   "metadata": {},
   "outputs": [],
   "source": []
  },
  {
   "cell_type": "code",
   "execution_count": null,
   "id": "8d8a49c0",
   "metadata": {},
   "outputs": [],
   "source": []
  },
  {
   "cell_type": "code",
   "execution_count": null,
   "id": "e50a6414",
   "metadata": {},
   "outputs": [],
   "source": []
  }
 ],
 "metadata": {
  "kernelspec": {
   "display_name": "Python 3 (ipykernel)",
   "language": "python",
   "name": "python3"
  },
  "language_info": {
   "codemirror_mode": {
    "name": "ipython",
    "version": 3
   },
   "file_extension": ".py",
   "mimetype": "text/x-python",
   "name": "python",
   "nbconvert_exporter": "python",
   "pygments_lexer": "ipython3",
   "version": "3.11.4"
  }
 },
 "nbformat": 4,
 "nbformat_minor": 5
}
