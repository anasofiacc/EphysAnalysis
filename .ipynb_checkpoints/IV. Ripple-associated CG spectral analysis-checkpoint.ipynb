{
 "cells": [
  {
   "cell_type": "markdown",
   "id": "ae8da2f8",
   "metadata": {},
   "source": [
    "# Ripple-associated CG spectral analysis\n",
    "https://github.com/Eden-Kramer-Lab/spectral_connectivity/blob/master/examples/Intro_tutorial.ipynb"
   ]
  },
  {
   "cell_type": "markdown",
   "id": "619b66bd",
   "metadata": {},
   "source": [
    "<br>\n",
    "\n",
    "### Imports"
   ]
  },
  {
   "cell_type": "code",
   "execution_count": 1,
   "id": "89a678e7",
   "metadata": {},
   "outputs": [],
   "source": [
    "import os\n",
    "import re\n",
    "import glob\n",
    "import pandas as pd\n",
    "import numpy as np\n",
    "import seaborn as sns\n",
    "from tqdm import tqdm\n",
    "import matplotlib.pyplot as plt\n",
    "%matplotlib inline\n",
    "import warnings\n",
    "from spectral_connectivity import Multitaper, Connectivity\n",
    "\n",
    "warnings.filterwarnings('ignore')"
   ]
  },
  {
   "cell_type": "markdown",
   "id": "16a9aa3e",
   "metadata": {},
   "source": [
    "<br>\n",
    "\n",
    "### Define functions"
   ]
  },
  {
   "cell_type": "code",
   "execution_count": 2,
   "id": "380e774b",
   "metadata": {},
   "outputs": [],
   "source": [
    "def split_by_phase(df):\n",
    "    \n",
    "    sample_df = df.loc[df['phase']=='Sample'].drop(['phase'], axis=1)\n",
    "    delay_df = df.loc[df['phase']=='Delay'].drop(['phase'], axis=1)\n",
    "    test_df = df.loc[df['phase']=='Test'].drop(['phase'], axis=1)\n",
    "    iti_df = df.loc[df['phase']=='ITI'].drop(['phase'], axis=1)\n",
    "    \n",
    "    return sample_df, delay_df, test_df, iti_df\n",
    "\n",
    "\n",
    "def prepare_for_multitaper(df, n_tts):\n",
    "    '''\n",
    "    Rearrange and prepare data for multitaper.\n",
    "    df, Dataframe. \n",
    "    n_tts, int - Number of tetrodes (may vary with dataset)\n",
    "    '''\n",
    "    \n",
    "    # Normalise relative timestamp to correct small jitters\n",
    "    #df['relative_timestamp']=df.relative_timestamp.round(8)\n",
    "\n",
    "    # Drop unecessary columns\n",
    "    to_drop = ['start_time', 'end_time','timestamp']#, 'relative_timestamp']\n",
    "    df = df.drop(to_drop, axis=1)\n",
    "\n",
    "    # Create TT list\n",
    "    tts = ['TT{}'.format(x) for x in range(1,n_tts+1)]\n",
    "    \n",
    "    # Re-shape dataset into array\n",
    "    \n",
    "    reshaped = df.pivot_table(\n",
    "        index='i',#'relative_timestamp',#\"bin_centres\", \n",
    "        columns=\"ripple_nr\", \n",
    "        values=tts,\n",
    "        dropna=False\n",
    "    ).values.reshape(\n",
    "        (\n",
    "        df['i'].nunique(),\n",
    "        df['ripple_nr'].nunique(), # number of ripples\n",
    "        n_tts\n",
    "        )\n",
    "    )\n",
    "    \n",
    "    return reshaped\n",
    "\n",
    "\n",
    "def get_conn (df, fs, window, step, exp_type, nblocks):\n",
    "    \n",
    "    '''\n",
    "    Prepares dataframe provided for multitaper\n",
    "    Creates a multitaper object\n",
    "    Inputs the multitaper object to create a connectivity object.\n",
    "    '''\n",
    "    \n",
    "    multitaper = Multitaper(\n",
    "        df, \n",
    "        sampling_frequency=fs, \n",
    "        n_time_samples_per_window = window,\n",
    "        n_time_samples_per_step = step,\n",
    "    )\n",
    "        \n",
    "        \n",
    "    conn = Connectivity.from_multitaper(\n",
    "        multitaper, \n",
    "        expectation_type = exp_type, \n",
    "        blocks = nblocks\n",
    "    )\n",
    "    \n",
    "    return conn   "
   ]
  },
  {
   "cell_type": "markdown",
   "id": "44405987",
   "metadata": {},
   "source": [
    "<br>\n",
    "\n",
    "### Open datasets"
   ]
  },
  {
   "cell_type": "code",
   "execution_count": 3,
   "id": "1aea1d5d",
   "metadata": {},
   "outputs": [],
   "source": [
    "main_path = 'PreProcessedData'\n",
    "cg_data = pd.read_csv(os.path.join(main_path, 'cg_data.csv'), index_col=False)\n",
    "ripple_data = pd.read_csv(os.path.join(main_path, 'cg_analysis_ripple_library.csv'), index_col=False)"
   ]
  },
  {
   "cell_type": "code",
   "execution_count": 4,
   "id": "3027a82e",
   "metadata": {},
   "outputs": [],
   "source": [
    "cg_data.loc[(cg_data['phase']=='Test (Pre-choice)')|(cg_data['phase']=='Test (Past-choice)'), 'phase']='Test'"
   ]
  },
  {
   "cell_type": "code",
   "execution_count": 5,
   "id": "c8f504c2",
   "metadata": {},
   "outputs": [],
   "source": [
    "cg_data['i']=cg_data.groupby(['ripple_nr']).cumcount()"
   ]
  },
  {
   "cell_type": "markdown",
   "id": "35545573",
   "metadata": {},
   "source": [
    "<br>\n",
    "\n",
    "### Split dataset according to sampling rates & phase"
   ]
  },
  {
   "cell_type": "code",
   "execution_count": 6,
   "id": "bd35ed0b",
   "metadata": {},
   "outputs": [],
   "source": [
    "# Currently the only session with 20K sampling\n",
    "# ripple_data.loc[ripple_data.session_code == 20191113131818, 'ripple_nr'].unique() --To check"
   ]
  },
  {
   "cell_type": "code",
   "execution_count": 7,
   "id": "8884c862",
   "metadata": {},
   "outputs": [],
   "source": [
    "cg_data_2k = cg_data[cg_data.ripple_nr.between(0,74)]\n",
    "cg_data_3k = cg_data[~cg_data.ripple_nr.between(0,74)]"
   ]
  },
  {
   "cell_type": "code",
   "execution_count": 8,
   "id": "36e814b5",
   "metadata": {},
   "outputs": [
    {
     "data": {
      "text/plain": [
       "(phase\n",
       " Delay     29\n",
       " ITI        6\n",
       " Sample    14\n",
       " Test      26\n",
       " Name: ripple_nr, dtype: int64,\n",
       " phase\n",
       " Delay     114\n",
       " ITI        98\n",
       " Sample    186\n",
       " Test      155\n",
       " Name: ripple_nr, dtype: int64)"
      ]
     },
     "execution_count": 8,
     "metadata": {},
     "output_type": "execute_result"
    }
   ],
   "source": [
    "cg_data_2k.groupby(['phase']).ripple_nr.nunique(),cg_data_3k.groupby(['phase']).ripple_nr.nunique()"
   ]
  },
  {
   "cell_type": "code",
   "execution_count": 9,
   "id": "0e83c6fe",
   "metadata": {},
   "outputs": [],
   "source": [
    "# Split by phase\n",
    "sample_2k, delay_2k, test_2k, iti_2k = split_by_phase(cg_data_2k)\n",
    "sample_3k, delay_3k, test_3k, iti_3k = split_by_phase(cg_data_3k)"
   ]
  },
  {
   "cell_type": "markdown",
   "id": "8946ba77",
   "metadata": {},
   "source": [
    "<br>\n",
    "\n",
    "## Create connectivity object\n",
    "\n",
    "#### 1. Prepare data to create mutitaper:\n",
    "\n",
    "\"If we have three dimensions, dimension 1 is time, dimension 2 is trials, and dimensions 3 is signals. It is important to know note that dimension 2 now has a different meaning in that it represents trials and not signals now. Dimension 3 is now the signals dimension. We will show an example of this later.\"\n",
    "\n",
    "time_series : array, shape (n_time_samples, n_trials, n_signals)\n",
    "\n",
    "\n",
    "#### 2. Create multitaper object\n",
    "\n",
    "Controls the duration of the segment of time the transformation is computed on (seconds)\n",
    "w_duration = 0.1\n",
    "\n",
    "Control how far the time window is slid (overlap).\n",
    "Setting the step to smaller than the time window duration will make the time windows overlap\n",
    "step = 0.02\n",
    "\n",
    "Controls the frequency resolution of the Fourier transformed signal.\n",
    "Setting this parameter will define the default number of tapers used in the transform \n",
    "(number of tapers = 2 * time_halfbandwidth_product - 1.).\n",
    "Need to study this one although setting the above automatically changes this one\n",
    "time_halfbandwidth_product = 10\n",
    "\n",
    "\n",
    "#### 3. Create connectivity object\n",
    "The Connectivity class computes the frequency-domain connectivity measures from the Fourier coeffcients."
   ]
  },
  {
   "cell_type": "code",
   "execution_count": 179,
   "id": "d3f0d7cd",
   "metadata": {},
   "outputs": [],
   "source": [
    "## I NEED TO REPROCESS ALL 30Ks TO HAVE 20Ks - SO THAT ALL SAMPLES HAVE 2K / sec"
   ]
  },
  {
   "cell_type": "markdown",
   "id": "10d8145e",
   "metadata": {},
   "source": [
    "#### Establish parameters to use"
   ]
  },
  {
   "cell_type": "code",
   "execution_count": 10,
   "id": "072dd7e4",
   "metadata": {},
   "outputs": [],
   "source": [
    "n_tts =14\n",
    "# Can be over time, trials, tapers or any combination of two or three. Default is by trials and tapers\n",
    "exp_type = \"tapers\"\n",
    "#The time windows used, in seconds \n",
    "window_2k=200\n",
    "window_3k=150\n",
    "step = 50"
   ]
  },
  {
   "cell_type": "markdown",
   "id": "aba34e40",
   "metadata": {},
   "source": [
    "#### Prepare data for multitaper"
   ]
  },
  {
   "cell_type": "code",
   "execution_count": 157,
   "id": "13c0a87b",
   "metadata": {},
   "outputs": [],
   "source": [
    "test = iti_3k.drop(['TT1', 'TT2', 'TT3', 'TT4', 'TT5','TT6', 'TT7', 'TT8', 'TT9'], axis=1)"
   ]
  },
  {
   "cell_type": "code",
   "execution_count": 161,
   "id": "9c466e27",
   "metadata": {
    "scrolled": false
   },
   "outputs": [],
   "source": [
    "#reshaped_iti_3k = prepare_for_multitaper(iti_3k, n_tts)\n",
    "reshaped = test.pivot_table(\n",
    "        index='i',#'relative_timestamp',#\"bin_centres\", \n",
    "        columns=\"ripple_nr\", \n",
    "        values=['TT10', 'TT11', 'TT12', 'TT13', 'TT14'],\n",
    "        dropna=False\n",
    ").values.reshape(\n",
    "        (\n",
    "        test['i'].nunique(),\n",
    "        test['ripple_nr'].nunique(), # number of ripples\n",
    "        5\n",
    "        )\n",
    ")"
   ]
  },
  {
   "cell_type": "code",
   "execution_count": 165,
   "id": "336d3fb3",
   "metadata": {},
   "outputs": [
    {
     "data": {
      "text/plain": [
       "(3001, 98, 5)"
      ]
     },
     "execution_count": 165,
     "metadata": {},
     "output_type": "execute_result"
    }
   ],
   "source": [
    "reshaped.shape"
   ]
  },
  {
   "cell_type": "markdown",
   "id": "cdf3a3e5",
   "metadata": {},
   "source": [
    "#### Create conn object"
   ]
  },
  {
   "cell_type": "code",
   "execution_count": 50,
   "id": "ec1599ec",
   "metadata": {},
   "outputs": [],
   "source": [
    "# janelas 100 ms\n",
    "# com overlap de 1/10"
   ]
  },
  {
   "cell_type": "code",
   "execution_count": 167,
   "id": "406db384",
   "metadata": {},
   "outputs": [],
   "source": [
    "iti_3k_conn = get_conn(\n",
    "    #reshaped_iti_3k, \n",
    "    reshaped,\n",
    "    fs=3000, \n",
    "    window=300, \n",
    "    step=100, \n",
    "    exp_type=exp_type, \n",
    "    nblocks=10\n",
    ")"
   ]
  },
  {
   "cell_type": "markdown",
   "id": "8ee43e3d",
   "metadata": {},
   "source": [
    "<br>\n",
    "\n",
    "\n",
    "### Calculate aggregated power metrics"
   ]
  },
  {
   "cell_type": "code",
   "execution_count": 168,
   "id": "3ab43ca5",
   "metadata": {},
   "outputs": [],
   "source": [
    "def get_average_power(conn):\n",
    "    \n",
    "    '''\n",
    "    conn, connectivty object. \n",
    "    '''\n",
    "    \n",
    "    \n",
    "    # Get time labels\n",
    "    times = conn.time\n",
    "    \n",
    "    # Get frequencies\n",
    "    freqs = conn.frequencies\n",
    "    \n",
    "    # Calculate power ((A,B,C,D) --> A) Time windows; B) trials; C) Frequencies; D) Tetrodes)\n",
    "    power = iti_3k_conn.power()   \n",
    "      \n",
    "    # Average across tetrodes and SWRs\n",
    "    # Resource: https://numpy.org/doc/stable/reference/generated/numpy.nanmean.html\n",
    "    averaged_power= np.nanmean(power, axis=(1,3))\n",
    "\n",
    "    # Get standard deviations across tetrodes and SWRs\n",
    "    std_power= power.std(axis=(1,3))\n",
    "    \n",
    "    return freqs, times,averaged_power, std_power"
   ]
  },
  {
   "cell_type": "code",
   "execution_count": 169,
   "id": "1d09c2e6",
   "metadata": {},
   "outputs": [],
   "source": [
    "iti_freqs, iti_times, iti_avg_power, iti_std_power= get_average_power(iti_3k_conn)"
   ]
  },
  {
   "cell_type": "markdown",
   "id": "c9e6ae22",
   "metadata": {},
   "source": [
    "<br>\n",
    "\n",
    "### Power spectral density plot - Heatmap"
   ]
  },
  {
   "cell_type": "code",
   "execution_count": 174,
   "id": "3b2c8f46",
   "metadata": {},
   "outputs": [
    {
     "data": {
      "text/plain": [
       "array([[39.50644898, 37.43157214, 28.20384257, 25.58720851, 12.8003056 ,\n",
       "         8.96252898,  7.14838244,  5.78985418,  4.63300238,  3.76389159,\n",
       "         3.14935585,  2.53659968,  2.09589906,  1.80113412,  1.52179621,\n",
       "         1.36990515,  1.21766655,  1.06761572,  0.94604181,  0.87135367,\n",
       "         0.80317048,  0.75189977,  0.71455677,  0.68474293,  0.62417089,\n",
       "         0.57888901,  0.52733465,  0.49771269,  0.48396697,  0.4620487 ],\n",
       "       [46.00770202, 43.25338674, 31.95174226, 29.03197501, 14.50384548,\n",
       "         9.54634077,  7.46986935,  6.17883246,  4.95923123,  3.83167882,\n",
       "         2.99757531,  2.53618114,  2.09625058,  1.73284571,  1.5185788 ,\n",
       "         1.36249751,  1.16454855,  1.04676816,  0.9563222 ,  0.88688963,\n",
       "         0.84222033,  0.78518412,  0.73118247,  0.68168045,  0.63240056,\n",
       "         0.57040981,  0.52674142,  0.49268655,  0.47624561,  0.46073305],\n",
       "       [46.70622968, 44.20660218, 32.27527078, 29.0495317 , 14.24635803,\n",
       "         9.30073897,  7.30146036,  6.09326368,  4.94598833,  3.8349318 ,\n",
       "         2.95698912,  2.47557634,  2.01878964,  1.66802845,  1.40460874,\n",
       "         1.27015141,  1.15980016,  1.07414767,  0.96192945,  0.89898071,\n",
       "         0.80565505,  0.75990191,  0.71110047,  0.66827171,  0.61595178,\n",
       "         0.59355947,  0.5704496 ,  0.54854451,  0.50767159,  0.48278953],\n",
       "       [42.14707753, 39.16396454, 29.48680953, 26.50539696, 13.2403552 ,\n",
       "         8.85290025,  7.33131114,  5.96027424,  4.82015442,  3.86509957,\n",
       "         2.99871605,  2.4711816 ,  2.03508548,  1.66821845,  1.44635385,\n",
       "         1.32519546,  1.20464706,  1.07432825,  0.97808292,  0.92068146,\n",
       "         0.82687326,  0.76799006,  0.7229036 ,  0.65042725,  0.60869646,\n",
       "         0.58270912,  0.56748576,  0.52964531,  0.496817  ,  0.48067372],\n",
       "       [39.72254939, 37.35726412, 27.32872132, 25.44348265, 13.83774366,\n",
       "         8.73080361,  7.03268991,  6.0035964 ,  4.88647653,  4.01036429,\n",
       "         2.96854788,  2.48938393,  2.0401893 ,  1.67005579,  1.38713373,\n",
       "         1.28778526,  1.17491842,  1.02854944,  0.95212953,  0.87941382,\n",
       "         0.80018727,  0.73546878,  0.68609987,  0.63498982,  0.59815775,\n",
       "         0.57701263,  0.55453215,  0.5205417 ,  0.50113415,  0.47003952],\n",
       "       [39.58977516, 37.36807117, 27.74034307, 25.48876885, 12.78974904,\n",
       "         8.93123928,  7.15151297,  6.15309018,  4.92175658,  3.96626274,\n",
       "         3.12298904,  2.46298498,  2.09210751,  1.67088473,  1.41071889,\n",
       "         1.23620308,  1.1564637 ,  1.02250216,  0.90712365,  0.84295956,\n",
       "         0.80574907,  0.75019572,  0.7139462 ,  0.63357482,  0.60772364,\n",
       "         0.56291662,  0.52846418,  0.50134461,  0.47151156,  0.44964726],\n",
       "       [35.41523987, 32.62818639, 24.86407536, 23.3106762 , 12.9725545 ,\n",
       "         8.99246354,  7.36791458,  6.23691829,  5.00229433,  3.98667863,\n",
       "         3.12669351,  2.56863379,  2.10764706,  1.68584063,  1.40148027,\n",
       "         1.21374609,  1.11275159,  0.98214386,  0.87685224,  0.84652597,\n",
       "         0.78625243,  0.72830064,  0.65161922,  0.60875632,  0.59990301,\n",
       "         0.55901097,  0.53313898,  0.52426915,  0.51629855,  0.44988365],\n",
       "       [36.90126505, 34.90460142, 26.3814662 , 24.30691383, 13.23995808,\n",
       "         9.30798085,  7.52449511,  6.13294627,  5.10847666,  3.90323642,\n",
       "         3.20831449,  2.56065819,  2.07064712,  1.71449136,  1.46284668,\n",
       "         1.23330286,  1.09508031,  0.98308898,  0.86020591,  0.82569359,\n",
       "         0.76652563,  0.69984813,  0.63470821,  0.59952515,  0.58458546,\n",
       "         0.52778577,  0.50864258,  0.48919568,  0.46538651,  0.41763584],\n",
       "       [38.84758292, 37.7434593 , 27.72673577, 25.51893912, 13.10191507,\n",
       "         9.3278821 ,  7.23876523,  5.92799024,  4.56015028,  3.70881052,\n",
       "         3.00930288,  2.41355066,  1.9658518 ,  1.6878501 ,  1.4396503 ,\n",
       "         1.25392209,  1.07948076,  0.97888775,  0.89018641,  0.84167018,\n",
       "         0.77183973,  0.71115133,  0.65046287,  0.61998144,  0.58369675,\n",
       "         0.52509067,  0.49967882,  0.47756198,  0.44685569,  0.41038441],\n",
       "       [42.6625145 , 40.53102799, 29.93469501, 26.81865054, 12.43206811,\n",
       "         8.63021999,  6.81169664,  5.64027037,  4.30381958,  3.5604586 ,\n",
       "         2.97241149,  2.39075722,  1.98954421,  1.66592586,  1.46316986,\n",
       "         1.28800649,  1.11646635,  1.01817662,  0.92253918,  0.86632377,\n",
       "         0.79005464,  0.70651123,  0.66129647,  0.64303473,  0.60529295,\n",
       "         0.53864205,  0.51813869,  0.47298793,  0.43262854,  0.39230777],\n",
       "       [40.32396549, 37.52358653, 27.90001757, 25.59136995, 13.08358645,\n",
       "         8.3814793 ,  6.60146593,  5.49140878,  4.35030444,  3.65791091,\n",
       "         2.97374681,  2.36840216,  1.98595753,  1.63527782,  1.42680207,\n",
       "         1.24592415,  1.09769126,  0.97363578,  0.90631776,  0.85463599,\n",
       "         0.78668227,  0.71447319,  0.66927399,  0.63442267,  0.58054991,\n",
       "         0.54004721,  0.51616434,  0.48866218,  0.45277922,  0.41681806],\n",
       "       [43.03362083, 40.70167854, 30.1304155 , 27.07206422, 12.83491461,\n",
       "         8.6119072 ,  6.70137665,  5.34869299,  4.31308943,  3.58189518,\n",
       "         2.94583933,  2.40266316,  1.99460564,  1.69511239,  1.44221508,\n",
       "         1.26044173,  1.15480216,  1.00728708,  0.9571481 ,  0.87018885,\n",
       "         0.79015724,  0.72714495,  0.64274503,  0.60581116,  0.55317278,\n",
       "         0.51909832,  0.52297456,  0.49077686,  0.46670776,  0.44569095],\n",
       "       [45.43913407, 43.38449172, 31.45380828, 28.36903592, 13.32018637,\n",
       "         9.00908256,  7.08045521,  5.81346901,  4.64093229,  3.65725373,\n",
       "         3.01630094,  2.37333973,  1.94627895,  1.69436462,  1.49693216,\n",
       "         1.26370352,  1.13700362,  1.01553152,  0.93692715,  0.83786575,\n",
       "         0.76425361,  0.68992442,  0.65069045,  0.62291203,  0.57163225,\n",
       "         0.54397084,  0.53542942,  0.51276955,  0.48665973,  0.4441885 ],\n",
       "       [41.66892653, 39.34612685, 28.41405585, 26.63369619, 12.83451633,\n",
       "         8.82886409,  6.9588683 ,  5.67446597,  4.61307024,  3.69147703,\n",
       "         2.98780527,  2.47989037,  2.07064396,  1.8252016 ,  1.63643863,\n",
       "         1.46333959,  1.27435215,  1.16102945,  1.06603865,  0.98915189,\n",
       "         0.87790877,  0.8343554 ,  0.82646264,  0.76148495,  0.68996458,\n",
       "         0.65991274,  0.61366002,  0.55545367,  0.51638826,  0.48241329],\n",
       "       [41.67166078, 39.57089494, 29.00834859, 26.2898167 , 12.3055289 ,\n",
       "         8.74802911,  7.14817021,  6.05642498,  4.90226722,  4.01335715,\n",
       "         3.14704445,  2.74930501,  2.35513787,  1.989119  ,  1.78802456,\n",
       "         1.58530461,  1.43577793,  1.24290183,  1.14711001,  1.01991049,\n",
       "         0.9626301 ,  0.87646777,  0.87090651,  0.80607441,  0.76096428,\n",
       "         0.73072291,  0.69191309,  0.60272311,  0.60673326,  0.55558832],\n",
       "       [44.39020385, 41.72215628, 31.52704079, 27.52127076, 12.12169481,\n",
       "         8.75890827,  7.31536007,  6.23967317,  5.04195764,  4.16826537,\n",
       "         3.36110791,  2.85355526,  2.49980483,  2.24708246,  1.99975907,\n",
       "         1.71945448,  1.53151053,  1.3762272 ,  1.20485975,  1.07939423,\n",
       "         1.00312764,  0.88523141,  0.86573101,  0.80208504,  0.7641033 ,\n",
       "         0.69922773,  0.68844908,  0.62343766,  0.63095202,  0.61824963],\n",
       "       [42.59763872, 39.79648611, 29.29982649, 26.48252978, 12.21095342,\n",
       "         8.73965153,  7.22767755,  6.07452201,  4.99858651,  4.10243525,\n",
       "         3.28831092,  2.69028284,  2.28047646,  2.12729772,  1.89834377,\n",
       "         1.64591003,  1.50637935,  1.32665575,  1.11963816,  0.95174436,\n",
       "         0.9057204 ,  0.84482736,  0.77820748,  0.74925792,  0.71127366,\n",
       "         0.70274497,  0.68703871,  0.64722392,  0.6158014 ,  0.58607707],\n",
       "       [42.2137391 , 40.2580015 , 29.4959051 , 26.86306226, 12.48926731,\n",
       "         9.1165828 ,  6.95485084,  5.75651602,  4.60347667,  3.67805675,\n",
       "         2.92037697,  2.37427062,  2.024476  ,  1.77441534,  1.56987586,\n",
       "         1.37820473,  1.28646003,  1.14621648,  0.99292879,  0.88849906,\n",
       "         0.85444161,  0.76797815,  0.73668886,  0.71042375,  0.68722713,\n",
       "         0.63644133,  0.62672653,  0.60288212,  0.54891553,  0.51193225],\n",
       "       [44.03456345, 42.22385309, 30.68604595, 28.02915587, 12.59086618,\n",
       "         9.34287194,  7.33875864,  5.98212232,  4.60396658,  3.74126816,\n",
       "         2.96735106,  2.27490988,  1.87082957,  1.5638777 ,  1.40430225,\n",
       "         1.25296036,  1.19316059,  1.03733742,  0.94768038,  0.88054394,\n",
       "         0.87408578,  0.81943087,  0.74620522,  0.70186947,  0.66480846,\n",
       "         0.61208517,  0.59870892,  0.56719057,  0.53673831,  0.51452475],\n",
       "       [40.04553189, 39.4155481 , 29.69146763, 26.82984237, 12.93844302,\n",
       "         9.51492189,  7.59653244,  6.00354964,  4.73606788,  3.87047675,\n",
       "         2.98619745,  2.4979786 ,  2.05415916,  1.72893478,  1.4708846 ,\n",
       "         1.30440512,  1.16746964,  1.07793047,  0.97950621,  0.92133005,\n",
       "         0.87793482,  0.79566253,  0.7297569 ,  0.69002126,  0.65417641,\n",
       "         0.58067839,  0.549788  ,  0.51618612,  0.49338598,  0.48112015],\n",
       "       [43.07844001, 41.01823248, 31.18043701, 27.89811327, 12.97344157,\n",
       "         9.63059438,  7.4219088 ,  6.00923644,  4.876405  ,  3.98205507,\n",
       "         3.07916615,  2.43414614,  2.07865092,  1.74608543,  1.45436591,\n",
       "         1.29217573,  1.14461089,  1.04091799,  0.95137568,  0.87145308,\n",
       "         0.83840544,  0.79764904,  0.73119317,  0.67470348,  0.64406517,\n",
       "         0.58644135,  0.54130806,  0.51553208,  0.4839333 ,  0.4550795 ],\n",
       "       [38.04246371, 37.10366459, 27.4553597 , 25.32121298, 13.31637301,\n",
       "         9.39818383,  7.15856304,  6.10158271,  4.72007669,  3.90648498,\n",
       "         3.10498169,  2.48884383,  2.05739963,  1.72951534,  1.47240054,\n",
       "         1.25500357,  1.10676548,  1.04078417,  0.9474173 ,  0.86292319,\n",
       "         0.80825307,  0.76810625,  0.67541006,  0.65345265,  0.61844766,\n",
       "         0.56891361,  0.53090454,  0.50733857,  0.48323896,  0.4568914 ],\n",
       "       [35.77241805, 32.97028856, 25.41964505, 23.61305443, 12.65025852,\n",
       "         8.91036032,  7.37546991,  6.14733247,  4.81077322,  3.85493666,\n",
       "         3.04405173,  2.52696489,  1.9952471 ,  1.71019674,  1.47346916,\n",
       "         1.2885155 ,  1.09835771,  1.01478154,  0.93614107,  0.85573505,\n",
       "         0.78796876,  0.76269953,  0.66517654,  0.62465534,  0.5818701 ,\n",
       "         0.54652369,  0.51537498,  0.50507444,  0.49322437,  0.46889744],\n",
       "       [39.82159871, 37.51587779, 27.91448002, 25.59806625, 13.23230934,\n",
       "         9.41522077,  7.62323299,  6.4816395 ,  4.9878733 ,  3.7453914 ,\n",
       "         3.06296155,  2.53355053,  1.96308221,  1.6683711 ,  1.47798152,\n",
       "         1.26364958,  1.11314392,  1.05810374,  0.97833224,  0.88959824,\n",
       "         0.84761233,  0.78750812,  0.69976161,  0.65832986,  0.59536391,\n",
       "         0.56886868,  0.53764313,  0.52828972,  0.51107724,  0.49644407],\n",
       "       [38.74323737, 37.18241635, 27.62793006, 25.05289054, 13.00607499,\n",
       "         9.00182405,  7.26839875,  6.17728398,  4.99534409,  3.91148159,\n",
       "         3.05519252,  2.49233098,  1.97172463,  1.64761581,  1.46448241,\n",
       "         1.25558634,  1.12953888,  1.02247235,  0.92865981,  0.8654515 ,\n",
       "         0.81518698,  0.74232792,  0.68376384,  0.64132177,  0.61047157,\n",
       "         0.5735201 ,  0.54398775,  0.533932  ,  0.51665145,  0.49123938],\n",
       "       [36.40557687, 33.88677653, 25.39877583, 23.25640364, 11.82271526,\n",
       "         8.63207061,  7.02189443,  5.93707692,  4.9430267 ,  3.98770638,\n",
       "         3.17224964,  2.48552346,  1.95131133,  1.62996676,  1.41471674,\n",
       "         1.22528903,  1.14863185,  1.01825938,  0.96603998,  0.86705753,\n",
       "         0.80864719,  0.72880244,  0.71430514,  0.63964925,  0.59705078,\n",
       "         0.57348927,  0.54748905,  0.51294205,  0.50245822,  0.47262731],\n",
       "       [36.25987905, 34.37475373, 25.54198522, 23.451021  , 11.78331987,\n",
       "         8.28700122,  6.85012094,  5.85459404,  4.80378933,  4.02282454,\n",
       "         3.24614882,  2.46293492,  1.99160243,  1.72648539,  1.42845666,\n",
       "         1.30257614,  1.15332434,  1.03775363,  0.92637384,  0.81296597,\n",
       "         0.74546275,  0.68624551,  0.65719528,  0.62197617,  0.58621863,\n",
       "         0.56121581,  0.52885148,  0.49817749,  0.4821709 ,  0.46479984],\n",
       "       [39.51254564, 37.84882127, 27.81477255, 25.22884928, 12.41504612,\n",
       "         8.93253957,  7.37009897,  6.08649561,  4.86877856,  3.9566322 ,\n",
       "         3.14515879,  2.49686448,  1.96653504,  1.70212778,  1.46334983,\n",
       "         1.32454568,  1.16989272,  1.0370774 ,  0.91208448,  0.81946986,\n",
       "         0.77286919,  0.72865704,  0.6884799 ,  0.65201923,  0.60659019,\n",
       "         0.57345972,  0.53508732,  0.49392184,  0.47632796,  0.46744444]])"
      ]
     },
     "execution_count": 174,
     "metadata": {},
     "output_type": "execute_result"
    }
   ],
   "source": [
    "# drop frequencies we're not interested in\n",
    "iti_avg_power[:, 0:30]"
   ]
  },
  {
   "cell_type": "code",
   "execution_count": 176,
   "id": "d2ef86f8",
   "metadata": {},
   "outputs": [
    {
     "data": {
      "text/plain": [
       "<Axes: >"
      ]
     },
     "execution_count": 176,
     "metadata": {},
     "output_type": "execute_result"
    },
    {
     "data": {
      "image/png": "[encoded data removed]",
      "text/plain": [
       "<Figure size 640x480 with 2 Axes>"
      ]
     },
     "metadata": {},
     "output_type": "display_data"
    }
   ],
   "source": [
    "# drop frequencies we're not interested in\n",
    "sns.heatmap(np.log(iti_avg_power[:, 0:40]))\n"
   ]
  },
  {
   "cell_type": "markdown",
   "id": "392b78f7",
   "metadata": {},
   "source": [
    "<br>\n",
    "\n",
    "### Power by bands"
   ]
  },
  {
   "cell_type": "code",
   "execution_count": 134,
   "id": "e50a6414",
   "metadata": {},
   "outputs": [
    {
     "data": {
      "image/png": "[encoded data removed]",
      "text/plain": [
       "<Figure size 640x480 with 1 Axes>"
      ]
     },
     "metadata": {},
     "output_type": "display_data"
    }
   ],
   "source": [
    "plt.plot(iti_avg_power[0])\n",
    "plt.xticks(range(0,len(iti_freqs)),  list(iti_freqs))\n",
    "plt.xlim([0,250])\n",
    "sns.despine()"
   ]
  },
  {
   "cell_type": "code",
   "execution_count": null,
   "id": "bc120733",
   "metadata": {},
   "outputs": [],
   "source": []
  },
  {
   "cell_type": "code",
   "execution_count": null,
   "id": "4fb550b4",
   "metadata": {},
   "outputs": [],
   "source": []
  }
 ],
 "metadata": {
  "kernelspec": {
   "display_name": "Python 3 (ipykernel)",
   "language": "python",
   "name": "python3"
  },
  "language_info": {
   "codemirror_mode": {
    "name": "ipython",
    "version": 3
   },
   "file_extension": ".py",
   "mimetype": "text/x-python",
   "name": "python",
   "nbconvert_exporter": "python",
   "pygments_lexer": "ipython3",
   "version": "3.11.4"
  }
 },
 "nbformat": 4,
 "nbformat_minor": 5
}
