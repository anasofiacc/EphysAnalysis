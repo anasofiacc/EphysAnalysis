{
 "cells": [
  {
   "cell_type": "markdown",
   "id": "ae8da2f8",
   "metadata": {},
   "source": [
    "# Ripple-associated CG spectral analysis\n",
    "https://github.com/Eden-Kramer-Lab/spectral_connectivity/blob/master/examples/Intro_tutorial.ipynb"
   ]
  },
  {
   "cell_type": "markdown",
   "id": "619b66bd",
   "metadata": {},
   "source": [
    "<br>\n",
    "\n",
    "### Imports"
   ]
  },
  {
   "cell_type": "code",
   "execution_count": 2,
   "id": "89a678e7",
   "metadata": {},
   "outputs": [],
   "source": [
    "import os\n",
    "import re\n",
    "import glob\n",
    "import pandas as pd\n",
    "import numpy as np\n",
    "import seaborn as sns\n",
    "from tqdm import tqdm\n",
    "import matplotlib.pyplot as plt\n",
    "%matplotlib inline\n",
    "import warnings\n",
    "from spectral_connectivity import Multitaper, Connectivity\n",
    "\n",
    "warnings.filterwarnings('ignore')"
   ]
  },
  {
   "cell_type": "markdown",
   "id": "16a9aa3e",
   "metadata": {},
   "source": [
    "<br>\n",
    "\n",
    "### Define functions"
   ]
  },
  {
   "cell_type": "code",
   "execution_count": 32,
   "id": "380e774b",
   "metadata": {},
   "outputs": [],
   "source": [
    "def split_by_phase(df):\n",
    "    \n",
    "    sample_df = df.loc[df['phase']=='Sample'].drop(['phase'], axis=1)\n",
    "    delay_df = df.loc[df['phase']=='Delay'].drop(['phase'], axis=1)\n",
    "    test_df = df.loc[df['phase']=='Test'].drop(['phase'], axis=1)\n",
    "    iti_df = df.loc[df['phase']=='ITI'].drop(['phase'], axis=1)\n",
    "    \n",
    "    return sample_df, delay_df, test_df, iti_df\n",
    "\n",
    "\n",
    "\n",
    "\n",
    "\n",
    "def prepare_for_multitaper(df, n_tts):\n",
    "    '''\n",
    "    Rearrange and prepare data for multitaper.\n",
    "    df, Dataframe. \n",
    "    n_tts, int - Number of tetrodes (may vary with dataset)\n",
    "    '''\n",
    "    \n",
    "    # Normalise relative timestamp to correct small jitters\n",
    "    #df['relative_timestamp']=df.relative_timestamp.round(8)\n",
    "\n",
    "    # Drop unecessary columns\n",
    "    to_drop = ['start_time', 'end_time','timestamp']\n",
    "    df = df.drop(to_drop, axis=1)\n",
    "\n",
    "    # Create TT list\n",
    "    tts = ['TT{}'.format(x) for x in range(1,n_tts+1)]\n",
    "    \n",
    "    # Re-shape dataset into array\n",
    "    \n",
    "    reshaped = df.pivot(\n",
    "        index=\"relative_timestamp\", \n",
    "        columns=\"ripple_nr\", \n",
    "        values=tts,\n",
    "    ).values.reshape(\n",
    "        (\n",
    "        df['relative_timestamp'].unique().size,\n",
    "        df['ripple_nr'].unique().size,\n",
    "        n_tts\n",
    "        )\n",
    "    )\n",
    "    \n",
    "    return reshaped\n",
    "\n",
    "\n",
    "def process_multitaper(df, fs, window, step):\n",
    "    '''\n",
    "    Create multitaper object\n",
    "    '''\n",
    "\n",
    "    multitaper = Multitaper(\n",
    "        df, \n",
    "        sampling_frequency=fs, \n",
    "        time_window_duration = window,\n",
    "        time_window_step = step,\n",
    "        #time_halfbandwidth_product= time_halfbandwidth_product\n",
    "    )\n",
    "\n",
    "    return multitaper\n",
    "\n",
    "\n",
    "def create_connectivity(m, exp_type, nblocks):\n",
    "    '''\n",
    "    Create connectivity object\n",
    "    '''\n",
    "\n",
    "    conn = Connectivity.from_multitaper(\n",
    "        m, \n",
    "        expectation_type = exp_type, \n",
    "        blocks = nblocks\n",
    ")\n",
    "\n",
    "    return conn\n",
    "\n",
    "\n",
    "def get_conn (df, n_tts, fs, window, step, exp_type, nblocks):\n",
    "    \n",
    "    reshaped_df = prepare_for_multitaper(df, n_tts)\n",
    "    \n",
    "    print(reshaped_df.shape)\n",
    "    multitaper = process_multitaper(reshaped_df, fs, window, step)\n",
    "    \n",
    "    \n",
    "    conn = create_connectivity(multitaper, exp_type, nblocks)\n",
    "    \n",
    "    return conn\n",
    "    "
   ]
  },
  {
   "cell_type": "markdown",
   "id": "44405987",
   "metadata": {},
   "source": [
    "<br>\n",
    "\n",
    "### Open datasets"
   ]
  },
  {
   "cell_type": "code",
   "execution_count": 4,
   "id": "1aea1d5d",
   "metadata": {},
   "outputs": [],
   "source": [
    "main_path = 'PreProcessedData'\n",
    "cg_data = pd.read_csv(os.path.join(main_path, 'cg_data.csv'), index_col=False)\n",
    "ripple_data = pd.read_csv(os.path.join(main_path, 'cg_analysis_ripple_library.csv'), index_col=False)"
   ]
  },
  {
   "cell_type": "code",
   "execution_count": 5,
   "id": "3027a82e",
   "metadata": {},
   "outputs": [],
   "source": [
    "cg_data.loc[(cg_data['phase']=='Test (Pre-choice)')|(cg_data['phase']=='Test (Past-choice)'), 'phase']='Test'"
   ]
  },
  {
   "cell_type": "markdown",
   "id": "35545573",
   "metadata": {},
   "source": [
    "<br>\n",
    "\n",
    "### Split dataset according to sampling rates "
   ]
  },
  {
   "cell_type": "code",
   "execution_count": 6,
   "id": "bd35ed0b",
   "metadata": {},
   "outputs": [],
   "source": [
    "# Currently the only session with 20K sampling\n",
    "# ripple_data.loc[ripple_data.session_code == 20191113131818, 'ripple_nr'].unique() --To check"
   ]
  },
  {
   "cell_type": "code",
   "execution_count": 7,
   "id": "8884c862",
   "metadata": {},
   "outputs": [],
   "source": [
    "# Data with different sampling rates will be processed separately\n",
    "# 20191113131818 corresponds to the only dataset collected at 20K and therefore with 2k samples/s after processing\n",
    "cg_data_2k = cg_data[cg_data.ripple_nr.between(0,74)]\n",
    "cg_data_3k = cg_data[~cg_data.ripple_nr.between(0,74)]"
   ]
  },
  {
   "cell_type": "code",
   "execution_count": 8,
   "id": "36e814b5",
   "metadata": {},
   "outputs": [
    {
     "data": {
      "text/plain": [
       "phase\n",
       "Delay     29\n",
       "ITI        6\n",
       "Sample    14\n",
       "Test      26\n",
       "Name: ripple_nr, dtype: int64"
      ]
     },
     "execution_count": 8,
     "metadata": {},
     "output_type": "execute_result"
    }
   ],
   "source": [
    "cg_data_2k.groupby(['phase']).ripple_nr.nunique()"
   ]
  },
  {
   "cell_type": "code",
   "execution_count": 9,
   "id": "06d2aee9",
   "metadata": {},
   "outputs": [
    {
     "data": {
      "text/plain": [
       "phase\n",
       "Delay     114\n",
       "ITI        98\n",
       "Sample    186\n",
       "Test      155\n",
       "Name: ripple_nr, dtype: int64"
      ]
     },
     "execution_count": 9,
     "metadata": {},
     "output_type": "execute_result"
    }
   ],
   "source": [
    "cg_data_3k.groupby(['phase']).ripple_nr.nunique()"
   ]
  },
  {
   "cell_type": "markdown",
   "id": "8946ba77",
   "metadata": {},
   "source": [
    "<br>\n",
    "\n",
    "## Create connectivity object\n",
    "\n",
    "#### 1. Prepare data to create mutitaper:\n",
    "\n",
    "\"If we have three dimensions, dimension 1 is time, dimension 2 is trials, and dimensions 3 is signals. It is important to know note that dimension 2 now has a different meaning in that it represents trials and not signals now. Dimension 3 is now the signals dimension. We will show an example of this later.\"\n",
    "\n",
    "time_series : array, shape (n_time_samples, n_trials, n_signals)\n",
    "\n",
    "\n",
    "#### 2. Create multitaper object\n",
    "\n",
    "Controls the duration of the segment of time the transformation is computed on (seconds)\n",
    "w_duration = 0.1\n",
    "\n",
    "Control how far the time window is slid (overlap).\n",
    "Setting the step to smaller than the time window duration will make the time windows overlap\n",
    "step = 0.02\n",
    "\n",
    "Controls the frequency resolution of the Fourier transformed signal.\n",
    "Setting this parameter will define the default number of tapers used in the transform \n",
    "(number of tapers = 2 * time_halfbandwidth_product - 1.).\n",
    "Need to study this one although setting the above automatically changes this one\n",
    "time_halfbandwidth_product = 10\n",
    "\n",
    "\n",
    "#### 3. Create connectivity object\n",
    "The Connectivity class computes the frequency-domain connectivity measures from the Fourier coeffcients."
   ]
  },
  {
   "cell_type": "code",
   "execution_count": 10,
   "id": "0e83c6fe",
   "metadata": {},
   "outputs": [],
   "source": [
    "# Split by phase\n",
    "sample_2k, delay_2k, test_2k, iti_2k = split_by_phase(cg_data_2k)\n",
    "sample_3k, delay_3k, test_3k, iti_3k = split_by_phase(cg_data_3k)"
   ]
  },
  {
   "cell_type": "code",
   "execution_count": 11,
   "id": "072dd7e4",
   "metadata": {},
   "outputs": [
    {
     "name": "stdout",
     "output_type": "stream",
     "text": [
      "(6529, 6, 14)\n"
     ]
    }
   ],
   "source": [
    "# Can be over time, trials, tapers or any combination of two or three. Default is by trials and tapers\n",
    "n_tts =14\n",
    "\n",
    "# Can be over time, trials, tapers or any combination of two or three. Default is by trials and tapers\n",
    "exp_type = \"trials_tapers\"\n",
    "\n",
    "\n",
    "\n",
    "iti_2k_reshaped, iti_2k_multitaper, iti_2k_conn = get_conn(\n",
    "    iti_2k, n_tts, \n",
    "    fs=2000, window=0.1, step=0.02, exp_type=exp_type, nblocks=10\n",
    ")\n"
   ]
  },
  {
   "cell_type": "markdown",
   "id": "10d8145e",
   "metadata": {},
   "source": [
    "### Power calculation from conn object"
   ]
  },
  {
   "cell_type": "code",
   "execution_count": 12,
   "id": "406db384",
   "metadata": {},
   "outputs": [
    {
     "data": {
      "text/plain": [
       "(159, 100, 14)"
      ]
     },
     "execution_count": 12,
     "metadata": {},
     "output_type": "execute_result"
    }
   ],
   "source": [
    "# Check conn shape (n time windows, frequencies, n_tetrodes)\n",
    "iti_2k_power = iti_2k_conn.power()\n",
    "iti_2k_power.shape"
   ]
  },
  {
   "cell_type": "code",
   "execution_count": 13,
   "id": "4fcfdf8f",
   "metadata": {},
   "outputs": [],
   "source": [
    "############################ TEST TO SEE IF SPLITTING IMPROVES LACK OF MEMORY"
   ]
  },
  {
   "cell_type": "code",
   "execution_count": 14,
   "id": "6aff6fc0",
   "metadata": {},
   "outputs": [],
   "source": [
    "reshaped_df = prepare_for_multitaper(iti_3k, n_tts)"
   ]
  },
  {
   "cell_type": "code",
   "execution_count": 15,
   "id": "f4fa15ae",
   "metadata": {},
   "outputs": [
    {
     "data": {
      "text/plain": [
       "(33733, 98, 14)"
      ]
     },
     "execution_count": 15,
     "metadata": {},
     "output_type": "execute_result"
    }
   ],
   "source": [
    "reshaped_df.shape"
   ]
  },
  {
   "cell_type": "code",
   "execution_count": 24,
   "id": "559b73c2",
   "metadata": {},
   "outputs": [],
   "source": [
    "#X1, X2 = np.split(reshaped_df, [80], axis=1)\n",
    "#X1.shape, X2.shape"
   ]
  },
  {
   "cell_type": "code",
   "execution_count": 1,
   "id": "c784b6ce",
   "metadata": {
    "scrolled": true
   },
   "outputs": [
    {
     "ename": "NameError",
     "evalue": "name 'get_conn' is not defined",
     "output_type": "error",
     "traceback": [
      "\u001b[0;31m---------------------------------------------------------------------------\u001b[0m",
      "\u001b[0;31mNameError\u001b[0m                                 Traceback (most recent call last)",
      "Cell \u001b[0;32mIn[1], line 1\u001b[0m\n\u001b[0;32m----> 1\u001b[0m iti_3k_conn \u001b[38;5;241m=\u001b[39m get_conn(iti_3k, n_tts, fs\u001b[38;5;241m=\u001b[39m\u001b[38;5;241m3000\u001b[39m, window\u001b[38;5;241m=\u001b[39m\u001b[38;5;241m0.1\u001b[39m, step\u001b[38;5;241m=\u001b[39m\u001b[38;5;241m0.05\u001b[39m, exp_type\u001b[38;5;241m=\u001b[39mexp_type, nblocks\u001b[38;5;241m=\u001b[39m\u001b[38;5;241m50\u001b[39m)\n",
      "\u001b[0;31mNameError\u001b[0m: name 'get_conn' is not defined"
     ]
    }
   ],
   "source": [
    "iti_3k_conn = get_conn(iti_3k, n_tts, fs=3000, window=0.1, step=0.05, exp_type=exp_type, nblocks=50)"
   ]
  },
  {
   "cell_type": "code",
   "execution_count": null,
   "id": "52e4b9c5",
   "metadata": {},
   "outputs": [],
   "source": [
    "iti_3k_conn.power().shape"
   ]
  },
  {
   "cell_type": "code",
   "execution_count": null,
   "id": "b0717a7b",
   "metadata": {},
   "outputs": [],
   "source": []
  },
  {
   "cell_type": "code",
   "execution_count": null,
   "id": "91e0f7dc",
   "metadata": {},
   "outputs": [],
   "source": []
  },
  {
   "cell_type": "code",
   "execution_count": null,
   "id": "e79f8986",
   "metadata": {},
   "outputs": [],
   "source": []
  },
  {
   "cell_type": "markdown",
   "id": "8ee43e3d",
   "metadata": {},
   "source": [
    "### Power spectral density plot - Heatmap"
   ]
  },
  {
   "cell_type": "code",
   "execution_count": null,
   "id": "3ab43ca5",
   "metadata": {},
   "outputs": [],
   "source": [
    "# PSD plot - Averaged across tetrodes (14 tetrodes = 1 response)   -- PEDING TO AFTER CHECKING VARIABILITY\n",
    "# 1 plot per SWR location\n"
   ]
  },
  {
   "cell_type": "code",
   "execution_count": null,
   "id": "1d09c2e6",
   "metadata": {},
   "outputs": [],
   "source": [
    "# Transform data into something more readable\n",
    "\n",
    "# Combine datasets\n",
    "\n",
    "# Combine 3ks\n",
    "# Combine 2ks with 3ks\n",
    "# Output 4 datasets\n",
    "\n",
    "# Average across tts\n",
    "\n",
    "\n",
    "# Average across events\n",
    "\n",
    "\n",
    "\n",
    "# Create variability metric\n",
    "\n",
    "\n",
    "\n",
    "# Plot per location\n",
    "\n"
   ]
  },
  {
   "cell_type": "code",
   "execution_count": null,
   "id": "8d8a49c0",
   "metadata": {},
   "outputs": [],
   "source": []
  },
  {
   "cell_type": "code",
   "execution_count": null,
   "id": "e50a6414",
   "metadata": {},
   "outputs": [],
   "source": []
  }
 ],
 "metadata": {
  "kernelspec": {
   "display_name": "Python 3 (ipykernel)",
   "language": "python",
   "name": "python3"
  },
  "language_info": {
   "codemirror_mode": {
    "name": "ipython",
    "version": 3
   },
   "file_extension": ".py",
   "mimetype": "text/x-python",
   "name": "python",
   "nbconvert_exporter": "python",
   "pygments_lexer": "ipython3",
   "version": "3.11.4"
  }
 },
 "nbformat": 4,
 "nbformat_minor": 5
}
