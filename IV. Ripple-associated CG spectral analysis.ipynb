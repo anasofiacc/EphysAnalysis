{
 "cells": [
  {
   "cell_type": "markdown",
   "id": "ae8da2f8",
   "metadata": {},
   "source": [
    "# Ripple-associated CG spectral analysis\n",
    "https://github.com/Eden-Kramer-Lab/spectral_connectivity/blob/master/examples/Intro_tutorial.ipynb"
   ]
  },
  {
   "cell_type": "markdown",
   "id": "619b66bd",
   "metadata": {},
   "source": [
    "<br>\n",
    "\n",
    "### Imports"
   ]
  },
  {
   "cell_type": "code",
   "execution_count": 1,
   "id": "89a678e7",
   "metadata": {},
   "outputs": [],
   "source": [
    "import os\n",
    "import re\n",
    "import glob\n",
    "import pandas as pd\n",
    "import numpy as np\n",
    "import seaborn as sns\n",
    "from tqdm import tqdm\n",
    "import matplotlib.pyplot as plt\n",
    "%matplotlib inline\n",
    "import warnings\n",
    "from spectral_connectivity import Multitaper, Connectivity\n",
    "\n",
    "warnings.filterwarnings('ignore')"
   ]
  },
  {
   "cell_type": "markdown",
   "id": "16a9aa3e",
   "metadata": {},
   "source": [
    "<br>\n",
    "\n",
    "### Define functions"
   ]
  },
  {
   "cell_type": "code",
   "execution_count": 2,
   "id": "380e774b",
   "metadata": {},
   "outputs": [],
   "source": [
    "def split_by_phase(df):\n",
    "    \n",
    "    sample_df = df.loc[df['phase']=='Sample'].drop(['phase'], axis=1)\n",
    "    delay_df = df.loc[df['phase']=='Delay'].drop(['phase'], axis=1)\n",
    "    test_df = df.loc[df['phase']=='Test'].drop(['phase'], axis=1)\n",
    "    iti_df = df.loc[df['phase']=='ITI'].drop(['phase'], axis=1)\n",
    "    \n",
    "    return sample_df, delay_df, test_df, iti_df\n",
    "\n",
    "\n",
    "def prepare_for_multitaper(df, n_tts):\n",
    "    '''\n",
    "    Rearrange and prepare data for multitaper.\n",
    "    df, Dataframe. \n",
    "    n_tts, int - Number of tetrodes (may vary with dataset)\n",
    "    '''\n",
    "    \n",
    "    # Normalise relative timestamp to correct small jitters\n",
    "    #df['relative_timestamp']=df.relative_timestamp.round(8)\n",
    "\n",
    "    # Drop unecessary columns\n",
    "    to_drop = ['start_time', 'end_time','timestamp']#, 'relative_timestamp']\n",
    "    df = df.drop(to_drop, axis=1)\n",
    "\n",
    "    # Create TT list\n",
    "    tts = ['TT{}'.format(x) for x in range(1,n_tts+1)]\n",
    "    \n",
    "    # Re-shape dataset into array\n",
    "    \n",
    "    reshaped = df.pivot_table(\n",
    "        index='i',#'relative_timestamp',#\"bin_centres\", \n",
    "        columns=\"ripple_nr\", \n",
    "        values=tts,\n",
    "        dropna=False\n",
    "    ).values.reshape(\n",
    "        (\n",
    "        df['i'].nunique(),\n",
    "        df['ripple_nr'].nunique(), # number of ripples\n",
    "        n_tts\n",
    "        )\n",
    "    )\n",
    "    \n",
    "    return reshaped\n",
    "\n",
    "\n",
    "def get_conn (df, fs, window, step, exp_type, nblocks, time_halfbandwidth_product):\n",
    "    \n",
    "    '''\n",
    "    Prepares dataframe provided for multitaper\n",
    "    Creates a multitaper object\n",
    "    Inputs the multitaper object to create a connectivity object.\n",
    "    '''\n",
    "    \n",
    "    multitaper = Multitaper(\n",
    "        df, \n",
    "        sampling_frequency=fs, \n",
    "        n_time_samples_per_window = window,\n",
    "        n_time_samples_per_step = step,\n",
    "        time_halfbandwidth_product = time_halfbandwidth_product\n",
    "    )\n",
    "        \n",
    "        \n",
    "    conn = Connectivity.from_multitaper(\n",
    "        multitaper, \n",
    "        expectation_type = exp_type, \n",
    "        blocks = nblocks\n",
    "    )\n",
    "    \n",
    "    return conn   "
   ]
  },
  {
   "cell_type": "code",
   "execution_count": 3,
   "id": "3ab43ca5",
   "metadata": {},
   "outputs": [],
   "source": [
    "def get_average_power(conn):\n",
    "    \n",
    "    '''\n",
    "    conn, connectivty object. \n",
    "    '''  \n",
    "    \n",
    "    # Get time labels\n",
    "    times = conn.time\n",
    "    \n",
    "    # Get frequencies\n",
    "    freqs = conn.frequencies\n",
    "    \n",
    "    # Calculate power ((A,B,C,D) --> A) Time windows; B) trials; C) Frequencies; D) Tetrodes)\n",
    "    power = iti_3k_conn.power()   \n",
    "      \n",
    "    # Average across tetrodes and SWRs\n",
    "    # Resource: https://numpy.org/doc/stable/reference/generated/numpy.nanmean.html\n",
    "    averaged_power= np.nanmean(power, axis=(1,3))\n",
    "\n",
    "    # Get standard deviations across tetrodes and SWRs\n",
    "    std_power= power.std(axis=(1,3))\n",
    "    \n",
    "    return freqs, times,averaged_power, std_power"
   ]
  },
  {
   "cell_type": "markdown",
   "id": "44405987",
   "metadata": {},
   "source": [
    "<br>\n",
    "\n",
    "### Open datasets"
   ]
  },
  {
   "cell_type": "code",
   "execution_count": 4,
   "id": "1aea1d5d",
   "metadata": {},
   "outputs": [],
   "source": [
    "main_path = 'PreProcessedData'\n",
    "cg_data = pd.read_csv(os.path.join(main_path, 'cg_data.csv'), index_col=False)\n",
    "ripple_data = pd.read_csv(os.path.join(main_path, 'cg_analysis_ripple_library.csv'), index_col=False)"
   ]
  },
  {
   "cell_type": "code",
   "execution_count": 5,
   "id": "3027a82e",
   "metadata": {},
   "outputs": [],
   "source": [
    "cg_data.loc[(cg_data['phase']=='Test (Pre-choice)')|(cg_data['phase']=='Test (Past-choice)'), 'phase']='Test'"
   ]
  },
  {
   "cell_type": "code",
   "execution_count": 6,
   "id": "c8f504c2",
   "metadata": {},
   "outputs": [],
   "source": [
    "cg_data['i']=cg_data.groupby(['ripple_nr']).cumcount()"
   ]
  },
  {
   "cell_type": "markdown",
   "id": "35545573",
   "metadata": {},
   "source": [
    "<br>\n",
    "\n",
    "### Split dataset according to sampling rates & phase"
   ]
  },
  {
   "cell_type": "code",
   "execution_count": 7,
   "id": "bd35ed0b",
   "metadata": {},
   "outputs": [],
   "source": [
    "# Currently the only session with 20K sampling\n",
    "# ripple_data.loc[ripple_data.session_code == 20191113131818, 'ripple_nr'].unique() --To check"
   ]
  },
  {
   "cell_type": "code",
   "execution_count": 8,
   "id": "8884c862",
   "metadata": {},
   "outputs": [],
   "source": [
    "cg_data_2k = cg_data[cg_data.ripple_nr.between(0,74)]\n",
    "cg_data_3k = cg_data[~cg_data.ripple_nr.between(0,74)]"
   ]
  },
  {
   "cell_type": "code",
   "execution_count": 9,
   "id": "36e814b5",
   "metadata": {},
   "outputs": [
    {
     "data": {
      "text/plain": [
       "(phase\n",
       " Delay     29\n",
       " ITI        6\n",
       " Sample    14\n",
       " Test      26\n",
       " Name: ripple_nr, dtype: int64,\n",
       " phase\n",
       " Delay     114\n",
       " ITI        98\n",
       " Sample    186\n",
       " Test      155\n",
       " Name: ripple_nr, dtype: int64)"
      ]
     },
     "execution_count": 9,
     "metadata": {},
     "output_type": "execute_result"
    }
   ],
   "source": [
    "cg_data_2k.groupby(['phase']).ripple_nr.nunique(),cg_data_3k.groupby(['phase']).ripple_nr.nunique()"
   ]
  },
  {
   "cell_type": "code",
   "execution_count": 10,
   "id": "0e83c6fe",
   "metadata": {},
   "outputs": [],
   "source": [
    "# Split by phase\n",
    "sample_2k, delay_2k, test_2k, iti_2k = split_by_phase(cg_data_2k)\n",
    "sample_3k, delay_3k, test_3k, iti_3k = split_by_phase(cg_data_3k)"
   ]
  },
  {
   "cell_type": "markdown",
   "id": "8946ba77",
   "metadata": {},
   "source": [
    "<br>\n",
    "\n",
    "## Create connectivity object\n",
    "\n",
    "#### 1. Prepare data to create mutitaper:\n",
    "\n",
    "\"If we have three dimensions, dimension 1 is time, dimension 2 is trials, and dimensions 3 is signals. It is important to know note that dimension 2 now has a different meaning in that it represents trials and not signals now. Dimension 3 is now the signals dimension. We will show an example of this later.\"\n",
    "\n",
    "time_series : array, shape (n_time_samples, n_trials, n_signals)\n",
    "\n",
    "\n",
    "#### 2. Create multitaper object\n",
    "\n",
    "Controls the duration of the segment of time the transformation is computed on (seconds)\n",
    "w_duration = 0.1\n",
    "\n",
    "Control how far the time window is slid (overlap).\n",
    "Setting the step to smaller than the time window duration will make the time windows overlap\n",
    "step = 0.02\n",
    "\n",
    "Controls the frequency resolution of the Fourier transformed signal.\n",
    "Setting this parameter will define the default number of tapers used in the transform \n",
    "(number of tapers = 2 * time_halfbandwidth_product - 1.).\n",
    "Need to study this one although setting the above automatically changes this one\n",
    "time_halfbandwidth_product = 10\n",
    "\n",
    "\n",
    "#### 3. Create connectivity object\n",
    "The Connectivity class computes the frequency-domain connectivity measures from the Fourier coeffcients."
   ]
  },
  {
   "cell_type": "code",
   "execution_count": 11,
   "id": "d3f0d7cd",
   "metadata": {},
   "outputs": [],
   "source": [
    "## I NEED TO REPROCESS ALL 30Ks TO HAVE 20Ks - SO THAT ALL SAMPLES HAVE 2K / sec"
   ]
  },
  {
   "cell_type": "markdown",
   "id": "10d8145e",
   "metadata": {},
   "source": [
    "#### Establish parameters to use"
   ]
  },
  {
   "cell_type": "code",
   "execution_count": 12,
   "id": "072dd7e4",
   "metadata": {},
   "outputs": [],
   "source": [
    "n_tts =14\n",
    "# Can be over time, trials, tapers or any combination of two or three. Default is by trials and tapers\n",
    "exp_type = \"tapers\""
   ]
  },
  {
   "cell_type": "markdown",
   "id": "aba34e40",
   "metadata": {},
   "source": [
    "#### Prepare data for multitaper"
   ]
  },
  {
   "cell_type": "code",
   "execution_count": 13,
   "id": "15af8733",
   "metadata": {},
   "outputs": [],
   "source": [
    "##$ Removed unprocessed tetrodes\n",
    "\n",
    "#test = iti_3k.drop(['TT1', 'TT2', 'TT3', 'TT4', 'TT5','TT6', 'TT7', 'TT8', 'TT9'], axis=1)"
   ]
  },
  {
   "cell_type": "code",
   "execution_count": 14,
   "id": "9c466e27",
   "metadata": {
    "scrolled": false
   },
   "outputs": [],
   "source": [
    "reshaped_iti = prepare_for_multitaper(iti_3k, n_tts=14)"
   ]
  },
  {
   "cell_type": "markdown",
   "id": "cdf3a3e5",
   "metadata": {},
   "source": [
    "#### Create conn object"
   ]
  },
  {
   "cell_type": "code",
   "execution_count": 219,
   "id": "ec1599ec",
   "metadata": {},
   "outputs": [],
   "source": [
    "# janelas 100 ms\n",
    "# com overlap de 1/10"
   ]
  },
  {
   "cell_type": "code",
   "execution_count": 78,
   "id": "406db384",
   "metadata": {},
   "outputs": [],
   "source": [
    "iti_3k_conn = get_conn(\n",
    "    reshaped_iti,\n",
    "    fs=3000, \n",
    "    window=450, \n",
    "    step=45, \n",
    "    time_halfbandwidth_product=1,\n",
    "    exp_type=exp_type,\n",
    "    nblocks=10\n",
    ")"
   ]
  },
  {
   "cell_type": "markdown",
   "id": "8ee43e3d",
   "metadata": {},
   "source": [
    "<br>\n",
    "\n",
    "\n",
    "### Calculate aggregated power metrics"
   ]
  },
  {
   "cell_type": "code",
   "execution_count": 79,
   "id": "1d09c2e6",
   "metadata": {},
   "outputs": [],
   "source": [
    "iti_freqs, iti_times, iti_power, iti_std_power= get_average_power(iti_3k_conn)"
   ]
  },
  {
   "cell_type": "code",
   "execution_count": 80,
   "id": "0ad60483",
   "metadata": {
    "scrolled": true
   },
   "outputs": [
    {
     "data": {
      "text/plain": [
       "((57,), (225,))"
      ]
     },
     "execution_count": 80,
     "metadata": {},
     "output_type": "execute_result"
    }
   ],
   "source": [
    "iti_times.shape, iti_freqs.shape"
   ]
  },
  {
   "cell_type": "markdown",
   "id": "8b687ad1",
   "metadata": {},
   "source": [
    "<br>\n",
    "\n",
    "### Power spectral density plot - Heatmap\n",
    "\n",
    "Decibels scaling info [here](https://mark-kramer.github.io/Case-Studies-Python/03.html#step-5-decibel-scaling)"
   ]
  },
  {
   "cell_type": "code",
   "execution_count": 83,
   "id": "e3cd4f7f",
   "metadata": {},
   "outputs": [],
   "source": [
    "def create_psd(t, f, xx, decibel_scaling=False):\n",
    "    \n",
    "    \n",
    "    # If decibel scaling is requested\n",
    "    if decibel_scaling == True:\n",
    "        xx =np.log10(xx/np.max(xx))\n",
    "        \n",
    "        \n",
    "    fig = plt.Figure()\n",
    "\n",
    "    mesh = plt.pcolormesh(\n",
    "        t,\n",
    "        f,\n",
    "        xx.squeeze().T,\n",
    "        cmap=\"jet\"\n",
    "    )\n",
    "\n",
    "    plt.ylim((0,100))\n",
    "    #plt.xticks(ticks=iti_times, labels=np.round(t,3), rotation=90 )  ### NOT WORKING\n",
    "    #plt.yticks\n",
    "    cb = fig.colorbar(\n",
    "        mesh,\n",
    "        orientation=\"vertical\",\n",
    "        shrink=0.5,\n",
    "        aspect=15,\n",
    "        pad=0.1,\n",
    "        label=\"\"\n",
    "    )"
   ]
  },
  {
   "cell_type": "code",
   "execution_count": 85,
   "id": "b19473d2",
   "metadata": {},
   "outputs": [
    {
     "data": {
      "image/png": "[encoded data removed]",
      "text/plain": [
       "<Figure size 640x480 with 2 Axes>"
      ]
     },
     "metadata": {},
     "output_type": "display_data"
    }
   ],
   "source": [
    "create_psd(iti_times, iti_freqs, iti_power, decibel_scaling=True)"
   ]
  },
  {
   "cell_type": "code",
   "execution_count": null,
   "id": "ef99a885",
   "metadata": {},
   "outputs": [],
   "source": [
    "### Define parameters\n",
    "### Pretify function plot"
   ]
  },
  {
   "cell_type": "markdown",
   "id": "392b78f7",
   "metadata": {},
   "source": [
    "<br>\n",
    "\n",
    "### Power by bands"
   ]
  },
  {
   "cell_type": "code",
   "execution_count": null,
   "id": "7d5486e4",
   "metadata": {},
   "outputs": [],
   "source": []
  },
  {
   "cell_type": "code",
   "execution_count": null,
   "id": "5a53816a",
   "metadata": {},
   "outputs": [],
   "source": []
  }
 ],
 "metadata": {
  "kernelspec": {
   "display_name": "Python 3 (ipykernel)",
   "language": "python",
   "name": "python3"
  },
  "language_info": {
   "codemirror_mode": {
    "name": "ipython",
    "version": 3
   },
   "file_extension": ".py",
   "mimetype": "text/x-python",
   "name": "python",
   "nbconvert_exporter": "python",
   "pygments_lexer": "ipython3",
   "version": "3.11.4"
  }
 },
 "nbformat": 4,
 "nbformat_minor": 5
}
