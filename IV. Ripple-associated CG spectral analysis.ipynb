{
 "cells": [
  {
   "cell_type": "markdown",
   "id": "ae8da2f8",
   "metadata": {},
   "source": [
    "# Ripple-associated CG spectral analysis\n",
    "https://github.com/Eden-Kramer-Lab/spectral_connectivity/blob/master/examples/Intro_tutorial.ipynb"
   ]
  },
  {
   "cell_type": "markdown",
   "id": "619b66bd",
   "metadata": {},
   "source": [
    "<br>\n",
    "\n",
    "### Imports"
   ]
  },
  {
   "cell_type": "code",
   "execution_count": 2,
   "id": "89a678e7",
   "metadata": {},
   "outputs": [],
   "source": [
    "import os\n",
    "import re\n",
    "import glob\n",
    "import pandas as pd\n",
    "import numpy as np\n",
    "import seaborn as sns\n",
    "from tqdm import tqdm\n",
    "import matplotlib.pyplot as plt\n",
    "%matplotlib inline\n",
    "import warnings\n",
    "from spectral_connectivity import Multitaper, Connectivity\n",
    "\n",
    "warnings.filterwarnings('ignore')"
   ]
  },
  {
   "cell_type": "markdown",
   "id": "44405987",
   "metadata": {},
   "source": [
    "<br>\n",
    "\n",
    "### Open datasets\n",
    "https://stackoverflow.com/questions/54615882/how-to-convert-a-pandas-multiindex-dataframe-into-a-3d-array"
   ]
  },
  {
   "cell_type": "code",
   "execution_count": 3,
   "id": "1aea1d5d",
   "metadata": {},
   "outputs": [],
   "source": [
    "main_path = 'PreProcessedData'\n",
    "cg_data = pd.read_csv(os.path.join(main_path, 'cg_data.csv'), index_col=False)\n",
    "ripple_data = pd.read_csv(os.path.join(main_path, 'cg_analysis_ripple_library.csv'), index_col=False)"
   ]
  },
  {
   "cell_type": "code",
   "execution_count": 4,
   "id": "7c7885cc",
   "metadata": {
    "scrolled": true
   },
   "outputs": [
    {
     "data": {
      "text/html": [
       "<div>\n",
       "<style scoped>\n",
       "    .dataframe tbody tr th:only-of-type {\n",
       "        vertical-align: middle;\n",
       "    }\n",
       "\n",
       "    .dataframe tbody tr th {\n",
       "        vertical-align: top;\n",
       "    }\n",
       "\n",
       "    .dataframe thead th {\n",
       "        text-align: right;\n",
       "    }\n",
       "</style>\n",
       "<table border=\"1\" class=\"dataframe\">\n",
       "  <thead>\n",
       "    <tr style=\"text-align: right;\">\n",
       "      <th></th>\n",
       "      <th>ripple_nr</th>\n",
       "      <th>timestamp</th>\n",
       "      <th>TT1</th>\n",
       "      <th>TT2</th>\n",
       "      <th>TT3</th>\n",
       "      <th>TT4</th>\n",
       "      <th>TT5</th>\n",
       "      <th>TT6</th>\n",
       "      <th>TT7</th>\n",
       "      <th>TT8</th>\n",
       "      <th>TT9</th>\n",
       "      <th>TT10</th>\n",
       "      <th>TT11</th>\n",
       "      <th>TT12</th>\n",
       "      <th>TT13</th>\n",
       "      <th>TT14</th>\n",
       "      <th>start_time</th>\n",
       "      <th>end_time</th>\n",
       "      <th>phase</th>\n",
       "      <th>relative_timestamp</th>\n",
       "    </tr>\n",
       "  </thead>\n",
       "  <tbody>\n",
       "    <tr>\n",
       "      <th>0</th>\n",
       "      <td>0</td>\n",
       "      <td>83.25725</td>\n",
       "      <td>151.905</td>\n",
       "      <td>105.105</td>\n",
       "      <td>158.730</td>\n",
       "      <td>191.685</td>\n",
       "      <td>-38.610</td>\n",
       "      <td>121.485</td>\n",
       "      <td>115.245</td>\n",
       "      <td>146.835</td>\n",
       "      <td>149.760</td>\n",
       "      <td>147.225</td>\n",
       "      <td>8.970</td>\n",
       "      <td>73.905</td>\n",
       "      <td>37.830</td>\n",
       "      <td>70.590</td>\n",
       "      <td>83.75725</td>\n",
       "      <td>83.81275</td>\n",
       "      <td>Sample</td>\n",
       "      <td>-0.5000</td>\n",
       "    </tr>\n",
       "    <tr>\n",
       "      <th>1</th>\n",
       "      <td>0</td>\n",
       "      <td>83.25775</td>\n",
       "      <td>144.495</td>\n",
       "      <td>125.190</td>\n",
       "      <td>151.515</td>\n",
       "      <td>148.980</td>\n",
       "      <td>-86.775</td>\n",
       "      <td>116.415</td>\n",
       "      <td>108.420</td>\n",
       "      <td>145.470</td>\n",
       "      <td>145.080</td>\n",
       "      <td>130.455</td>\n",
       "      <td>7.020</td>\n",
       "      <td>70.785</td>\n",
       "      <td>44.070</td>\n",
       "      <td>67.275</td>\n",
       "      <td>83.75725</td>\n",
       "      <td>83.81275</td>\n",
       "      <td>Sample</td>\n",
       "      <td>-0.4995</td>\n",
       "    </tr>\n",
       "    <tr>\n",
       "      <th>2</th>\n",
       "      <td>0</td>\n",
       "      <td>83.25825</td>\n",
       "      <td>76.440</td>\n",
       "      <td>95.940</td>\n",
       "      <td>108.420</td>\n",
       "      <td>106.470</td>\n",
       "      <td>-139.620</td>\n",
       "      <td>68.250</td>\n",
       "      <td>33.150</td>\n",
       "      <td>111.735</td>\n",
       "      <td>109.590</td>\n",
       "      <td>75.855</td>\n",
       "      <td>-79.755</td>\n",
       "      <td>15.405</td>\n",
       "      <td>12.870</td>\n",
       "      <td>23.010</td>\n",
       "      <td>83.75725</td>\n",
       "      <td>83.81275</td>\n",
       "      <td>Sample</td>\n",
       "      <td>-0.4990</td>\n",
       "    </tr>\n",
       "    <tr>\n",
       "      <th>3</th>\n",
       "      <td>0</td>\n",
       "      <td>83.25875</td>\n",
       "      <td>0.000</td>\n",
       "      <td>17.160</td>\n",
       "      <td>54.990</td>\n",
       "      <td>18.525</td>\n",
       "      <td>-220.155</td>\n",
       "      <td>-26.715</td>\n",
       "      <td>-52.455</td>\n",
       "      <td>40.365</td>\n",
       "      <td>65.520</td>\n",
       "      <td>-0.780</td>\n",
       "      <td>-129.870</td>\n",
       "      <td>-38.610</td>\n",
       "      <td>-71.955</td>\n",
       "      <td>-40.365</td>\n",
       "      <td>83.75725</td>\n",
       "      <td>83.81275</td>\n",
       "      <td>Sample</td>\n",
       "      <td>-0.4985</td>\n",
       "    </tr>\n",
       "    <tr>\n",
       "      <th>4</th>\n",
       "      <td>0</td>\n",
       "      <td>83.25925</td>\n",
       "      <td>-20.280</td>\n",
       "      <td>-10.920</td>\n",
       "      <td>28.665</td>\n",
       "      <td>15.795</td>\n",
       "      <td>-262.470</td>\n",
       "      <td>-54.015</td>\n",
       "      <td>-74.685</td>\n",
       "      <td>16.380</td>\n",
       "      <td>18.915</td>\n",
       "      <td>-39.585</td>\n",
       "      <td>-130.650</td>\n",
       "      <td>-69.615</td>\n",
       "      <td>-82.485</td>\n",
       "      <td>-88.140</td>\n",
       "      <td>83.75725</td>\n",
       "      <td>83.81275</td>\n",
       "      <td>Sample</td>\n",
       "      <td>-0.4980</td>\n",
       "    </tr>\n",
       "  </tbody>\n",
       "</table>\n",
       "</div>"
      ],
      "text/plain": [
       "   ripple_nr  timestamp      TT1      TT2      TT3      TT4      TT5      TT6  \\\n",
       "0          0   83.25725  151.905  105.105  158.730  191.685  -38.610  121.485   \n",
       "1          0   83.25775  144.495  125.190  151.515  148.980  -86.775  116.415   \n",
       "2          0   83.25825   76.440   95.940  108.420  106.470 -139.620   68.250   \n",
       "3          0   83.25875    0.000   17.160   54.990   18.525 -220.155  -26.715   \n",
       "4          0   83.25925  -20.280  -10.920   28.665   15.795 -262.470  -54.015   \n",
       "\n",
       "       TT7      TT8      TT9     TT10     TT11    TT12    TT13    TT14  \\\n",
       "0  115.245  146.835  149.760  147.225    8.970  73.905  37.830  70.590   \n",
       "1  108.420  145.470  145.080  130.455    7.020  70.785  44.070  67.275   \n",
       "2   33.150  111.735  109.590   75.855  -79.755  15.405  12.870  23.010   \n",
       "3  -52.455   40.365   65.520   -0.780 -129.870 -38.610 -71.955 -40.365   \n",
       "4  -74.685   16.380   18.915  -39.585 -130.650 -69.615 -82.485 -88.140   \n",
       "\n",
       "   start_time  end_time   phase  relative_timestamp  \n",
       "0    83.75725  83.81275  Sample             -0.5000  \n",
       "1    83.75725  83.81275  Sample             -0.4995  \n",
       "2    83.75725  83.81275  Sample             -0.4990  \n",
       "3    83.75725  83.81275  Sample             -0.4985  \n",
       "4    83.75725  83.81275  Sample             -0.4980  "
      ]
     },
     "execution_count": 4,
     "metadata": {},
     "output_type": "execute_result"
    }
   ],
   "source": [
    "cg_data.head()"
   ]
  },
  {
   "cell_type": "markdown",
   "id": "8946ba77",
   "metadata": {},
   "source": [
    "<br>\n",
    "\n",
    "## Prepare data for multitaper\n",
    "\n",
    "\"If we have three dimensions, dimension 1 is time, dimension 2 is trials, and dimensions 3 is signals. It is important to know note that dimension 2 now has a different meaning in that it represents trials and not signals now. Dimension 3 is now the signals dimension. We will show an example of this later.\"\n",
    "\n",
    "time_series : array, shape (n_time_samples, n_trials, n_signals)"
   ]
  },
  {
   "cell_type": "code",
   "execution_count": 242,
   "id": "4fb1f9bb",
   "metadata": {},
   "outputs": [],
   "source": [
    "# Normalise relative timestamp to correct small jitters\n",
    "cg_data['relative_timestamp']=cg_data.relative_timestamp.round(8)\n",
    "\n",
    "# Drop unecessary columns\n",
    "to_drop = ['start_time', 'end_time','timestamp']\n",
    "cg_data = cg_data.drop(to_drop, axis=1)\n",
    "\n",
    "# Split data by phase\n",
    "sample_data = cg_data.loc[cg_data['phase']=='Sample'].drop(['phase'], axis=1)\n",
    "delay_data = cg_data.loc[cg_data['phase']=='Delay'].drop(['phase'], axis=1)\n",
    "test_data = cg_data.loc[cg_data['phase']=='Test'].drop(['phase'], axis=1)\n",
    "iti_data = cg_data.loc[cg_data['phase']=='ITI'].drop(['phase'], axis=1)"
   ]
  },
  {
   "cell_type": "code",
   "execution_count": null,
   "id": "8a502b3c",
   "metadata": {},
   "outputs": [],
   "source": [
    "def add_the_stuff_here() # to apply to each dataframe"
   ]
  },
  {
   "cell_type": "code",
   "execution_count": 196,
   "id": "c784b6ce",
   "metadata": {},
   "outputs": [],
   "source": [
    "#  \n",
    "\n",
    "\n",
    "n_tetrodes = 14\n",
    "tts = ['TT{}'.format(x) for x in range(1,15)]\n",
    "\n",
    "t = cg_data.pivot(\n",
    "        index=\"relative_timestamp\", \n",
    "        columns=\"ripple_nr\", \n",
    "        values=[\"TT1\", 'TT2']\n",
    "    ).values.reshape(\n",
    "        (\n",
    "        2,\n",
    "        test['relative_timestamp'].unique().size,\n",
    "        test['ripple_nr'].unique().size,\n",
    "        )\n",
    "    )"
   ]
  },
  {
   "cell_type": "code",
   "execution_count": 197,
   "id": "231360f9",
   "metadata": {},
   "outputs": [
    {
     "data": {
      "text/plain": [
       "(2, 11, 3)"
      ]
     },
     "execution_count": 197,
     "metadata": {},
     "output_type": "execute_result"
    }
   ],
   "source": [
    "t.shape"
   ]
  },
  {
   "cell_type": "code",
   "execution_count": 198,
   "id": "d1f7e438",
   "metadata": {},
   "outputs": [
    {
     "data": {
      "text/plain": [
       "array([[[ -2.34 ,  46.215,  50.31 ],\n",
       "        [ 12.285, -15.6  , 131.43 ],\n",
       "        [ -4.875, 136.305,  -3.705],\n",
       "        [ -2.535,  22.035,  78.975],\n",
       "        [  9.555,  35.295,  75.27 ],\n",
       "        [  5.07 , -43.68 , 167.505],\n",
       "        [-14.82 ,   3.12 ,  49.725],\n",
       "        [ 16.185, -86.19 , 142.545],\n",
       "        [ 29.835,  28.47 ,  27.495],\n",
       "        [ 56.94 , -65.13 , 121.68 ],\n",
       "        [ 13.26 ,  -8.385,  93.405]],\n",
       "\n",
       "       [[ 17.55 , -70.2  , 177.45 ],\n",
       "        [ 21.06 , -18.135,  58.305],\n",
       "        [ 22.035, -67.08 , 116.805],\n",
       "        [ 26.715, -37.83 ,  37.05 ],\n",
       "        [ 52.65 , -76.05 , 100.815],\n",
       "        [  4.875, -46.41 ,  55.575],\n",
       "        [ 46.605, -47.775, 112.71 ],\n",
       "        [-16.965, -44.07 ,  80.535],\n",
       "        [ 14.235, -54.21 , 153.465],\n",
       "        [ 13.065,  -2.34 ,  61.815],\n",
       "        [ 32.955, -12.48 , 122.265]]])"
      ]
     },
     "execution_count": 198,
     "metadata": {},
     "output_type": "execute_result"
    }
   ],
   "source": [
    "t"
   ]
  },
  {
   "cell_type": "markdown",
   "id": "9a1f0fdf",
   "metadata": {},
   "source": [
    "#### Reshape"
   ]
  },
  {
   "cell_type": "code",
   "execution_count": null,
   "id": "6b9f471b",
   "metadata": {},
   "outputs": [],
   "source": [
    "#time_series : array, shape (n_time_samples, n_trials, n_signals)\n",
    "#Voltage in an array like\n",
    "#(n_time_points, n_ripples, )"
   ]
  },
  {
   "cell_type": "code",
   "execution_count": 19,
   "id": "43ebdf77",
   "metadata": {},
   "outputs": [],
   "source": []
  },
  {
   "cell_type": "code",
   "execution_count": null,
   "id": "5cbdaaa3",
   "metadata": {},
   "outputs": [],
   "source": []
  },
  {
   "cell_type": "markdown",
   "id": "c0c79278",
   "metadata": {},
   "source": [
    "<br>\n",
    "\n",
    "### Create multitaper object"
   ]
  },
  {
   "cell_type": "code",
   "execution_count": null,
   "id": "51bd6c8a",
   "metadata": {},
   "outputs": [],
   "source": [
    "# Number of samples per time unit the signal(s) are recorded at\n",
    "sampling_frequency = 3000\n",
    "\n",
    "# Controls the duration of the segment of time the transformation is computed on (seconds)\n",
    "time_window_duration = 0.1\n",
    "\n",
    "# Control how far the time window is slid (overlap).\n",
    "# Setting the step to smaller than the time window duration will make the time windows overlap\n",
    "time_window_step = 0.1 # No overalap\n",
    "\n",
    "# Controls the frequency resolution of the Fourier transformed signal.\n",
    "# Setting this parameter will define the default number of tapers used in the transform \n",
    "# (number of tapers = 2 * time_halfbandwidth_product - 1.).\n",
    "time_halfbandwidth_product =   # Need to study this one"
   ]
  },
  {
   "cell_type": "code",
   "execution_count": 6,
   "id": "eeed8a06",
   "metadata": {},
   "outputs": [],
   "source": [
    "#Multitaper?"
   ]
  },
  {
   "cell_type": "code",
   "execution_count": null,
   "id": "cb7d6203",
   "metadata": {},
   "outputs": [],
   "source": [
    "multitaper = Multitaper(\n",
    "    signal, \n",
    "    sampling_frequency=sampling_frequency, \n",
    "    time_halfbandwidth_product= time_halfbandwidth_product\n",
    ")"
   ]
  },
  {
   "cell_type": "code",
   "execution_count": null,
   "id": "6d690e17",
   "metadata": {},
   "outputs": [],
   "source": [
    "multitaper"
   ]
  },
  {
   "cell_type": "markdown",
   "id": "45aa6bc0",
   "metadata": {},
   "source": [
    "<br>\n",
    "\n",
    "### Create connectivity object\n",
    "The Connectivity class computes the frequency-domain connectivity measures from the Fourier coeffcients."
   ]
  },
  {
   "cell_type": "code",
   "execution_count": null,
   "id": "6c130915",
   "metadata": {},
   "outputs": [],
   "source": []
  },
  {
   "cell_type": "code",
   "execution_count": null,
   "id": "de79a237",
   "metadata": {},
   "outputs": [],
   "source": []
  },
  {
   "cell_type": "markdown",
   "id": "8ee43e3d",
   "metadata": {},
   "source": [
    "### Power spectral density plot - Heatmap"
   ]
  },
  {
   "cell_type": "code",
   "execution_count": 3,
   "id": "3ab43ca5",
   "metadata": {},
   "outputs": [],
   "source": [
    "# PSD plot - Averaged across tetrodes (14 tetrodes = 1 response)   -- PEDING TO AFTER CHECKING VARIABILITY\n",
    "# 1 plot per SWR location"
   ]
  },
  {
   "cell_type": "code",
   "execution_count": null,
   "id": "1d09c2e6",
   "metadata": {},
   "outputs": [],
   "source": []
  },
  {
   "cell_type": "code",
   "execution_count": null,
   "id": "8d8a49c0",
   "metadata": {},
   "outputs": [],
   "source": []
  },
  {
   "cell_type": "code",
   "execution_count": null,
   "id": "e50a6414",
   "metadata": {},
   "outputs": [],
   "source": []
  }
 ],
 "metadata": {
  "kernelspec": {
   "display_name": "Python 3 (ipykernel)",
   "language": "python",
   "name": "python3"
  },
  "language_info": {
   "codemirror_mode": {
    "name": "ipython",
    "version": 3
   },
   "file_extension": ".py",
   "mimetype": "text/x-python",
   "name": "python",
   "nbconvert_exporter": "python",
   "pygments_lexer": "ipython3",
   "version": "3.11.4"
  }
 },
 "nbformat": 4,
 "nbformat_minor": 5
}
