{
 "cells": [
  {
   "cell_type": "markdown",
   "id": "ae8da2f8",
   "metadata": {},
   "source": [
    "# Ripple-associated CG spectral analysis\n",
    "https://github.com/Eden-Kramer-Lab/spectral_connectivity/blob/master/examples/Intro_tutorial.ipynb"
   ]
  },
  {
   "cell_type": "markdown",
   "id": "619b66bd",
   "metadata": {},
   "source": [
    "<br>\n",
    "\n",
    "### Imports"
   ]
  },
  {
   "cell_type": "code",
   "execution_count": 39,
   "id": "89a678e7",
   "metadata": {},
   "outputs": [],
   "source": [
    "import os\n",
    "import re\n",
    "import glob\n",
    "import pandas as pd\n",
    "import numpy as np\n",
    "import seaborn as sns\n",
    "from tqdm import tqdm\n",
    "import matplotlib.pyplot as plt\n",
    "%matplotlib inline\n",
    "import warnings\n",
    "from spectral_connectivity import Multitaper, Connectivity\n",
    "\n",
    "warnings.filterwarnings('ignore')"
   ]
  },
  {
   "cell_type": "markdown",
   "id": "16a9aa3e",
   "metadata": {},
   "source": [
    "<br>\n",
    "\n",
    "### Define functions"
   ]
  },
  {
   "cell_type": "code",
   "execution_count": 222,
   "id": "380e774b",
   "metadata": {},
   "outputs": [],
   "source": [
    "def split_by_phase(df):\n",
    "    \n",
    "    sample_df = df.loc[df['phase']=='Sample'].drop(['phase'], axis=1)\n",
    "    delay_df = df.loc[df['phase']=='Delay'].drop(['phase'], axis=1)\n",
    "    test_df = df.loc[df['phase']=='Test'].drop(['phase'], axis=1)\n",
    "    iti_df = df.loc[df['phase']=='ITI'].drop(['phase'], axis=1)\n",
    "    \n",
    "    return sample_df, delay_df, test_df, iti_df\n",
    "\n",
    "\n",
    "def prepare_for_multitaper(df, n_tts):\n",
    "    '''\n",
    "    Rearrange and prepare data for multitaper.\n",
    "    df, Dataframe. \n",
    "    n_tts, int - Number of tetrodes (may vary with dataset)\n",
    "    '''\n",
    "    \n",
    "    # Normalise relative timestamp to correct small jitters\n",
    "    #df['relative_timestamp']=df.relative_timestamp.round(8)\n",
    "\n",
    "    # Drop unecessary columns\n",
    "    to_drop = ['start_time', 'end_time','timestamp']#, 'relative_timestamp']\n",
    "    df = df.drop(to_drop, axis=1)\n",
    "\n",
    "    # Create TT list\n",
    "    tts = ['TT{}'.format(x) for x in range(1,n_tts+1)]\n",
    "    \n",
    "    # Re-shape dataset into array    \n",
    "    reshaped = df.pivot_table(\n",
    "        index='i',#'relative_timestamp',#\"bin_centres\", \n",
    "        columns=\"ripple_nr\", \n",
    "        values=tts,\n",
    "        dropna=False\n",
    "    ).values.reshape(\n",
    "        (\n",
    "        df['i'].nunique(),\n",
    "        df['ripple_nr'].nunique(), # number of ripples\n",
    "        n_tts\n",
    "        )\n",
    "    )\n",
    "    \n",
    "    return reshaped\n",
    "\n",
    "\n",
    "def get_conn (df, fs, window, step, exp_type, nblocks, time_halfbandwidth_product):\n",
    "    \n",
    "    '''\n",
    "    Prepares dataframe provided for multitaper\n",
    "    Creates a multitaper object\n",
    "    Inputs the multitaper object to create a connectivity object.\n",
    "    '''\n",
    "    \n",
    "    multitaper = Multitaper(\n",
    "        df, \n",
    "        sampling_frequency=fs, \n",
    "        n_time_samples_per_window = window,\n",
    "        n_time_samples_per_step = step,\n",
    "        time_halfbandwidth_product = time_halfbandwidth_product\n",
    "    )\n",
    "        \n",
    "        \n",
    "    conn = Connectivity.from_multitaper(\n",
    "        multitaper, \n",
    "        expectation_type = exp_type, \n",
    "        blocks = nblocks\n",
    "    )\n",
    "    \n",
    "    return conn   \n",
    "\n",
    "\n",
    "def get_average_power(conn):\n",
    "    \n",
    "    '''\n",
    "    Average power across tetrodes.\n",
    "    conn, connectivty object. \n",
    "    '''  \n",
    "    \n",
    "    # Get time labels\n",
    "    times = conn.time\n",
    "    \n",
    "    # Get frequencies\n",
    "    freqs = conn.frequencies\n",
    "    \n",
    "    # Calculate power ((A,B,C,D) --> A) Time windows; B) trials; C) Frequencies; D) Tetrodes)\n",
    "    power = conn.power()   \n",
    "      \n",
    "    # Average across tetrodes and SWRs\n",
    "    # Resource: https://numpy.org/doc/stable/reference/generated/numpy.nanmean.html\n",
    "    averaged_power= np.nanmean(power, axis=(3,1))\n",
    "\n",
    "    # Get standard deviations across tetrodes and SWRs\n",
    "    std_power= power.std(axis=(3,1))\n",
    "    \n",
    "    return freqs, times, averaged_power, std_power, power"
   ]
  },
  {
   "cell_type": "markdown",
   "id": "44405987",
   "metadata": {},
   "source": [
    "<br>\n",
    "\n",
    "### Open datasets"
   ]
  },
  {
   "cell_type": "code",
   "execution_count": 223,
   "id": "1aea1d5d",
   "metadata": {},
   "outputs": [],
   "source": [
    "main_path = 'PreProcessedData'\n",
    "cg_data = pd.read_csv(os.path.join(main_path, 'cg_data.csv'), index_col=False)\n",
    "ripple_data = pd.read_csv(os.path.join(main_path, 'cg_analysis_ripple_library.csv'), index_col=False)"
   ]
  },
  {
   "cell_type": "code",
   "execution_count": 224,
   "id": "3027a82e",
   "metadata": {},
   "outputs": [],
   "source": [
    "cg_data.loc[(cg_data['phase']=='Test (Pre-choice)')|(cg_data['phase']=='Test (Past-choice)'), 'phase']='Test'"
   ]
  },
  {
   "cell_type": "code",
   "execution_count": 199,
   "id": "c8f504c2",
   "metadata": {},
   "outputs": [],
   "source": [
    "# Calculate i, a cumulative count of rows per ripple\n",
    "cg_data['i']=cg_data.groupby(['ripple_nr']).cumcount()"
   ]
  },
  {
   "cell_type": "markdown",
   "id": "35545573",
   "metadata": {},
   "source": [
    "<br>\n",
    "\n",
    "### Split dataset according to sampling rates & phase"
   ]
  },
  {
   "cell_type": "code",
   "execution_count": 28,
   "id": "bd35ed0b",
   "metadata": {},
   "outputs": [],
   "source": [
    "# Currently the only session with 20K sampling\n",
    "# ripple_data.loc[ripple_data.session_code == 20191113131818, 'ripple_nr'].unique() -- TO DROP AFTER REPROCESSING\n",
    "#cg_data_2k = cg_data[cg_data.ripple_nr.between(0,74)]"
   ]
  },
  {
   "cell_type": "code",
   "execution_count": 103,
   "id": "8884c862",
   "metadata": {},
   "outputs": [],
   "source": [
    "cg_data = cg_data[~cg_data.ripple_nr.between(0,74)]  ## ---- TO DROP AFTER REPROCESSING"
   ]
  },
  {
   "cell_type": "code",
   "execution_count": 30,
   "id": "36e814b5",
   "metadata": {},
   "outputs": [
    {
     "data": {
      "text/plain": [
       "phase\n",
       "Delay     114\n",
       "ITI        98\n",
       "Sample    186\n",
       "Test      155\n",
       "Name: ripple_nr, dtype: int64"
      ]
     },
     "execution_count": 30,
     "metadata": {},
     "output_type": "execute_result"
    }
   ],
   "source": [
    "cg_data.groupby(['phase']).ripple_nr.nunique()"
   ]
  },
  {
   "cell_type": "code",
   "execution_count": 31,
   "id": "0e83c6fe",
   "metadata": {},
   "outputs": [],
   "source": [
    "# Split by phase\n",
    "#sample_2k, delay_2k, test_2k, iti_2k = split_by_phase(cg_data_2k)\n",
    "sample, delay, test, iti = split_by_phase(cg_data)"
   ]
  },
  {
   "cell_type": "markdown",
   "id": "8946ba77",
   "metadata": {},
   "source": [
    "<br>\n",
    "\n",
    "### Create connectivity object"
   ]
  },
  {
   "cell_type": "code",
   "execution_count": 12,
   "id": "d3f0d7cd",
   "metadata": {},
   "outputs": [],
   "source": [
    "## I NEED TO REPROCESS ALL 30Ks TO HAVE 20Ks - SO THAT ALL SAMPLES HAVE 5K / sec"
   ]
  },
  {
   "cell_type": "markdown",
   "id": "aba34e40",
   "metadata": {},
   "source": [
    "#### 1. Prepare for multitaper\n",
    "\"If we have three dimensions, dimension 1 is time, dimension 2 is trials, and dimensions 3 is signals. It is important to know note that dimension 2 now has a different meaning in that it represents trials and not signals now. Dimension 3 is now the signals dimension. We will show an example of this later.\" time_series : array, shape (n_time_samples, n_trials, n_signals)."
   ]
  },
  {
   "cell_type": "code",
   "execution_count": 32,
   "id": "072dd7e4",
   "metadata": {},
   "outputs": [],
   "source": [
    "n_tts =14"
   ]
  },
  {
   "cell_type": "code",
   "execution_count": 48,
   "id": "9c466e27",
   "metadata": {
    "scrolled": false
   },
   "outputs": [],
   "source": [
    "reshaped_iti = prepare_for_multitaper(iti, n_tts= n_tts)\n",
    "reshaped_sample = prepare_for_multitaper(sample, n_tts= n_tts)\n",
    "reshaped_delay = prepare_for_multitaper(delay, n_tts= n_tts)\n",
    "reshaped_test = prepare_for_multitaper(test, n_tts= n_tts)"
   ]
  },
  {
   "cell_type": "markdown",
   "id": "cdf3a3e5",
   "metadata": {},
   "source": [
    "<br>\n",
    "\n",
    "#### 2.Create conn objects\n",
    "##### 2.1 Create multitaper object\n",
    "\n",
    "Controls the duration of the segment of time the transformation is computed on (seconds)\n",
    "w_duration = 0.1\n",
    "Control how far the time window is slid (overlap).\n",
    "Setting the step to smaller than the time window duration will make the time windows overlap\n",
    "step = 0.02\n",
    "Controls the frequency resolution of the Fourier transformed signal.\n",
    "Setting this parameter will define the default number of tapers used in the transform \n",
    "(number of tapers = 2 * time_halfbandwidth_product - 1.).\n",
    "Need to study this one although setting the above automatically changes this one\n",
    "time_halfbandwidth_product = 10\n",
    "\n",
    "##### 2.2. Create connectivity object\n",
    "The Connectivity class computes the frequency-domain connectivity measures from the Fourier coeffcients."
   ]
  },
  {
   "cell_type": "code",
   "execution_count": 152,
   "id": "ec1599ec",
   "metadata": {},
   "outputs": [],
   "source": [
    "# janelas 100 ms\n",
    "# com overlap de 1/10\n",
    "\n",
    "fs = 3000\n",
    "window = 150\n",
    "step = 15\n",
    "nblocks = 10\n",
    "exp_type = \"tapers\"\n",
    "time_halfbandwidth_product=1"
   ]
  },
  {
   "cell_type": "code",
   "execution_count": 153,
   "id": "406db384",
   "metadata": {},
   "outputs": [],
   "source": [
    "iti_conn = get_conn(\n",
    "    reshaped_iti,\n",
    "    fs= fs, \n",
    "    window=window, \n",
    "    step=step, \n",
    "    time_halfbandwidth_product= time_halfbandwidth_product,\n",
    "    exp_type=exp_type,\n",
    "    nblocks=nblocks\n",
    ")\n",
    "\n",
    "#sample_conn = get_conn(\n",
    "#    reshaped_sample,\n",
    "#    fs= fs, \n",
    "#    window=window, \n",
    "#    step=step, \n",
    "#    time_halfbandwidth_product= time_halfbandwidth_product,\n",
    "#    exp_type=exp_type,\n",
    "#    nblocks=nblocks\n",
    "#)\n",
    "\n",
    "#delay_conn = get_conn(\n",
    "#    reshaped_delay,\n",
    "#    fs= fs, \n",
    "#    window=window, \n",
    "#    step=step, \n",
    "#    time_halfbandwidth_product= time_halfbandwidth_product,\n",
    "#    exp_type=exp_type,\n",
    "#    nblocks=nblocks\n",
    "#)\n",
    "\n",
    "#test_conn = get_conn(\n",
    "#    reshaped_test,\n",
    "#    fs= fs, \n",
    "#    window=window, \n",
    "#    step=step, \n",
    "#    time_halfbandwidth_product= time_halfbandwidth_product,\n",
    "#    exp_type=exp_type,\n",
    "#    nblocks=nblocks\n",
    "#)"
   ]
  },
  {
   "cell_type": "markdown",
   "id": "8ee43e3d",
   "metadata": {},
   "source": [
    "<br>\n",
    "\n",
    "\n",
    "### Calculate aggregated power metrics for each SWR type"
   ]
  },
  {
   "cell_type": "code",
   "execution_count": 225,
   "id": "1d09c2e6",
   "metadata": {},
   "outputs": [],
   "source": [
    "iti_freqs, iti_times, iti_mean_power, iti_std, iti_power= get_average_power(iti_conn)\n",
    "# sample_freqs,sample_times, samplw_power, sample_std_power= get_average_power(sample_conn)\n",
    "# delay_freqs, delay_times, delay_power, delay_std_power= get_average_power(delay_conn)\n",
    "# test_freqs, test_times, test_power, test_std_power= get_average_power(test_conn)"
   ]
  },
  {
   "cell_type": "code",
   "execution_count": 232,
   "id": "ed340243",
   "metadata": {},
   "outputs": [
    {
     "data": {
      "text/plain": [
       "((75,), (191,), 0.95)"
      ]
     },
     "execution_count": 232,
     "metadata": {},
     "output_type": "execute_result"
    }
   ],
   "source": [
    "iti_freqs.shape, iti_times.shape, iti_times.max()"
   ]
  },
  {
   "cell_type": "markdown",
   "id": "8b687ad1",
   "metadata": {},
   "source": [
    "<br>\n",
    "\n",
    "### Power spectral density plot - Heatmap\n",
    "\n",
    "Decibels scaling info [here](https://mark-kramer.github.io/Case-Studies-Python/03.html#step-5-decibel-scaling)"
   ]
  },
  {
   "cell_type": "code",
   "execution_count": 290,
   "id": "e3cd4f7f",
   "metadata": {},
   "outputs": [],
   "source": [
    "def create_psd(t, f, xx, decibel_scaling, title):\n",
    "    \n",
    "    '''\n",
    "    Create the PSD plot for given dataset. \n",
    "    Returns fig object.\n",
    "    t - array, times\n",
    "    f - array, frequencies\n",
    "    xx - array, power\n",
    "    decibel_scaling - boolean, to perform decibel scaling on data\n",
    "    title - the title of the plot\n",
    "    '''\n",
    "    \n",
    "    # If decibel scaling is requested\n",
    "    if decibel_scaling == True:\n",
    "        xx =np.log10(xx/np.max(xx))\n",
    "        \n",
    "        \n",
    "    fig, ax = plt.subplots(figsize=(6,3))\n",
    "    ax.mesh = plt.pcolormesh(\n",
    "        np.subtract(iti_times,.5),\n",
    "        f,\n",
    "        xx.squeeze().T,\n",
    "        cmap=\"jet\",\n",
    "        shading=\"auto\"\n",
    "    )\n",
    "\n",
    "    # Add vertical line\n",
    "    plt.axvline(0, color='black', linestyle=':')\n",
    "    \n",
    "    \n",
    "    # Define axes labels\n",
    "    plt.ylabel('Frequencies (Hz)')\n",
    "    plt.xlabel('Time to event (s)')\n",
    "    \n",
    "    # Define title\n",
    "    plt.title(title)\n",
    "      \n",
    "    # Define axes limits\n",
    "    plt.ylim((0,100))\n",
    "    plt.xlim((-.5, .5))\n",
    "\n",
    "    # Add color bar\n",
    "    cb = fig.colorbar(\n",
    "        ax.mesh,\n",
    "        orientation=\"vertical\",\n",
    "        shrink=0.5,\n",
    "        aspect=15,\n",
    "        pad=0.1,\n",
    "        label=\"Power (db)\"\n",
    "    )\n",
    "    \n",
    "    sns.despine()"
   ]
  },
  {
   "cell_type": "code",
   "execution_count": 291,
   "id": "b19473d2",
   "metadata": {
    "scrolled": false
   },
   "outputs": [
    {
     "data": {
      "image/png": "[encoded data removed]",
      "text/plain": [
       "<Figure size 600x300 with 2 Axes>"
      ]
     },
     "metadata": {},
     "output_type": "display_data"
    }
   ],
   "source": [
    "create_psd(iti_times, iti_freqs, iti_mean_power, decibel_scaling=True, title='ITI')\n",
    "# plt.savefig(fname=, dpi=300, format='svg' )"
   ]
  },
  {
   "cell_type": "code",
   "execution_count": 81,
   "id": "7a6fe5b6",
   "metadata": {},
   "outputs": [],
   "source": [
    "# create_psd(sample_times, sample_freqs, sample_power, decibel_scaling=True, title='Sample')\n",
    "# Save fig"
   ]
  },
  {
   "cell_type": "code",
   "execution_count": 82,
   "id": "ef99a885",
   "metadata": {},
   "outputs": [],
   "source": [
    "# create_psd(delay_times, delay_freqs, delay_power, decibel_scaling=True, title='Delay')\n",
    "# Save fig"
   ]
  },
  {
   "cell_type": "code",
   "execution_count": 83,
   "id": "aac69244",
   "metadata": {},
   "outputs": [],
   "source": [
    "# create_psd(test_times, test_freqs, test_power, decibel_scaling=True, title='Test')\n",
    "# Save fig"
   ]
  },
  {
   "cell_type": "markdown",
   "id": "392b78f7",
   "metadata": {},
   "source": [
    "<br>\n",
    "\n",
    "### Power by bands"
   ]
  },
  {
   "cell_type": "code",
   "execution_count": 303,
   "id": "7d5486e4",
   "metadata": {},
   "outputs": [],
   "source": [
    "### Function to fetch data and create df\n",
    "\n",
    "# Windows to analyse (~200ms)\n",
    "\n",
    "\n",
    "# Re-calculate average across tetrodes (not trials)from power \n",
    "# essencially I will re-do average across trials in seaborn\n",
    "averaged_iti_power= np.nanmean(iti_power, axis=(3)) #only across tetrodes\n",
    "\n",
    "# Create boolean mask for windows\n",
    "before_mask = (iti_times>=.3) & (iti_times <.5)\n",
    "after_mask = (iti_times>.5) & (iti_times <=.7)\n",
    "\n",
    "# Apply mask to power\n",
    "before_power = averaged_iti_power[before_mask]\n",
    "after_power = averaged_iti_power[before_mask]\n",
    "\n",
    "#Create a dataframe with window as column (frequency x window)\n",
    "\n",
    "\n",
    "#Apply seaborn"
   ]
  },
  {
   "cell_type": "code",
   "execution_count": null,
   "id": "ca5e73ab",
   "metadata": {},
   "outputs": [],
   "source": [
    "#Apply seaborn"
   ]
  }
 ],
 "metadata": {
  "kernelspec": {
   "display_name": "Python 3 (ipykernel)",
   "language": "python",
   "name": "python3"
  },
  "language_info": {
   "codemirror_mode": {
    "name": "ipython",
    "version": 3
   },
   "file_extension": ".py",
   "mimetype": "text/x-python",
   "name": "python",
   "nbconvert_exporter": "python",
   "pygments_lexer": "ipython3",
   "version": "3.11.4"
  }
 },
 "nbformat": 4,
 "nbformat_minor": 5
}
