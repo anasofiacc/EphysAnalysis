{
 "cells": [
  {
   "cell_type": "markdown",
   "id": "33c3b596",
   "metadata": {},
   "source": [
    "<br>\n",
    "\n",
    "\n",
    "# Ripple clean up\n",
    "\n",
    "In this notebook we will:\n",
    "\n",
    "- Aggregate all ripple datasets into one;\n",
    "- Find closest position datapoint;\n",
    "- Do a Quality check: the closest datapoint must be inside a trial minimum and maximum timestamps, otherwise, it means the detected ripple occurred during rat transportation, before or after the behavioral session.\n",
    "- Calculate position at the moment of SWR onset based on closest data points using the rat’s velocity within those two points. \n",
    "\n",
    "- Save single dataset into a .csv file.\n"
   ]
  },
  {
   "cell_type": "markdown",
   "id": "98c63d1d",
   "metadata": {},
   "source": [
    "### Imports"
   ]
  },
  {
   "cell_type": "code",
   "execution_count": 4,
   "id": "c3db6c46",
   "metadata": {},
   "outputs": [],
   "source": [
    "import os\n",
    "import re\n",
    "import glob\n",
    "import pandas as pd\n",
    "import numpy as np\n",
    "import seaborn as sns\n",
    "from tqdm import tqdm\n",
    "from ephys_utils import get_file_list\n",
    "import matplotlib.pyplot as plt\n",
    "%matplotlib inline"
   ]
  },
  {
   "cell_type": "markdown",
   "id": "2824d635",
   "metadata": {},
   "source": [
    "<br>\n",
    "\n",
    "### Function definition"
   ]
  },
  {
   "cell_type": "code",
   "execution_count": 5,
   "id": "33f3e257",
   "metadata": {},
   "outputs": [],
   "source": [
    "def find_closest_xy_trial_nr_outcome_run_type(value, position):\n",
    "    \n",
    "    \"\"\"\n",
    "    Find the closest x to value in the position file\n",
    "    value, float - Reference value;\n",
    "    position, DataFrame - Contains the x position data\n",
    "    \"\"\"\n",
    "    \n",
    "    closest_indices = position['timestamp'].sub(value).abs().sort_values().index.to_list()\n",
    "    \n",
    "    if not closest_indices:\n",
    "        return np.nan, np.nan, np.nan, np.nan, np.nan, np.nan, np.nan\n",
    "    else:\n",
    "        closest_index=closest_indices[0]\n",
    "        closest_data = position.loc[closest_index, ['timestamp','x', 'y', 'trial_nr', 'outcome', 'run_type']]\n",
    "        closest_data['i']=closest_index\n",
    "        return closest_data\n",
    "       \n",
    "def remove_ripples_outside_trials(ripple, trial_timestamps):\n",
    "    \n",
    "    # Collect the minimum and maximum timestamps of the trial nr and session the ripple\n",
    "    # was attributed too after finiding the closest position point\n",
    "    \n",
    "    trial = trial_timestamps[\n",
    "        (trial_timestamps['session_code']==ripple['session_code']) &\n",
    "        (trial_timestamps['trial_nr']==ripple['trial_nr'])]\n",
    "    \n",
    "    # Get min and max timestamps for trial of interest\n",
    "    min_t = trial['min'].iloc[0]\n",
    "    max_t = trial['max'].iloc[0]\n",
    "    \n",
    "    if max_t > ripple['start_time'] > min_t:\n",
    "        \n",
    "        ripple['trial_bound']=True\n",
    "    else:\n",
    "        ripple['trial_bound']=False\n",
    "        \n",
    "    return ripple\n",
    "    \n",
    "def calculate_xy_ripple_time_using_velocity(point1, point2, deltat_ripple):\n",
    "    '''\n",
    "    Using the two closests position points, calculate velocity at ripple time.\n",
    "    Will be used to infer ripple time xy position.\n",
    "    point1 occurs before point2.\n",
    "    '''\n",
    "    # Calculate the velocity between two closest points\n",
    "    deltat = abs(point2.timestamp-point1.timestamp)\n",
    "    deltax = abs(point2.x - point1.x)\n",
    "    deltay = abs(point2.y - point1.y)\n",
    "    vx = deltax / deltat\n",
    "    vy =  deltay/ deltat\n",
    "    \n",
    "    # Get movement deltax and deltay from first point to location of ripple start time\n",
    "    deltax_ripple = vx * deltat_ripple\n",
    "    deltay_ripple = vy * deltat_ripple\n",
    "    \n",
    "    return point1['x']+deltax_ripple, point1['y']+deltay_ripple\n",
    "     \n",
    "def calculate_xy_at_ripple_time(ripple, position):\n",
    "    '''\n",
    "    Get the two closest/adjacent position points to the ripple start time \n",
    "    (we already have the closest but not both). \n",
    "    Based on these two points, we calculate the approximate x in which the rat was \n",
    "    at the start of ripple occurrence.\n",
    "    '''\n",
    "    session_position = position[position['session_code']==ripple['session_code']].sort_values(\n",
    "        'timestamp')\n",
    "    \n",
    "    # Get previous position datapoint as 2nd point\n",
    "    if ripple['start_time']==ripple['timestamp']:\n",
    "        \n",
    "        x_ripple= ripple['x']\n",
    "        y_ripple =ripple['y']\n",
    "        \n",
    "    elif ripple['start_time']!=ripple['timestamp']:   \n",
    "        \n",
    "        if ripple['start_time'] < ripple['timestamp']:   \n",
    "            # t1 < Start time < t2 (closest)    \n",
    "            t1 = session_position.loc[ripple['i']-1, :]\n",
    "            t2 = ripple[['timestamp', 'x', 'y']]\n",
    "             \n",
    "        elif ripple['start_time'] > ripple['timestamp']:  \n",
    "            # Closest timestamp (t1) < Start time < Second point (t2)\n",
    "            t1 = ripple[['timestamp', 'x', 'y']]\n",
    "            t2 = session_position.loc[ripple['i']+1, :]\n",
    "        \n",
    "        deltat_ripple = abs(ripple['start_time']-t1['timestamp'])  \n",
    "        x_ripple, y_ripple = calculate_xy_ripple_time_using_velocity(t1, t2, deltat_ripple) \n",
    "        \n",
    "    ripple['x_ripple']=x_ripple\n",
    "    ripple['y_ripple']=y_ripple\n",
    "    \n",
    "    return ripple"
   ]
  },
  {
   "cell_type": "markdown",
   "id": "7a5ca62f",
   "metadata": {},
   "source": [
    "<br>\n",
    "\n",
    "### Path definition"
   ]
  },
  {
   "cell_type": "code",
   "execution_count": 6,
   "id": "b87bc38d",
   "metadata": {},
   "outputs": [],
   "source": [
    "# Where data from all rats is stored\n",
    "main_path = 'E:/EPHYS/data/'"
   ]
  },
  {
   "cell_type": "code",
   "execution_count": 7,
   "id": "e4c67182",
   "metadata": {},
   "outputs": [],
   "source": [
    "# Which folder names to process\n",
    "folders = [\n",
    "# Magalhaes\n",
    "'MAGALHAES_DNMP12_20trials_20190127105419',\n",
    "'MAGALHAES_DNMP13_10trials_20190128135858',\n",
    "'MAGALHAES_DNMP13_10trials_20190128142936',\n",
    "'MAGALHAES_DNMP14_3trials_20190128201036',\n",
    "'MAGALHAES_DNMP14_6trials_20190128190601',\n",
    "'MAGALHAES_DNMP14_11trials_20190128193951',\n",
    "'MAGALHES_DNMP11_20trials_20190126160731',\n",
    "# Napoleão\n",
    "# Homero\n",
    "#'HOMERO_DNMP4_12trials_20191105174624',\n",
    "'HOMERO_DNMP16_20trials_20191113131818',\n",
    "#'HOMERO_DNMP23_20trials_20191117150748'   \n",
    "]"
   ]
  },
  {
   "cell_type": "markdown",
   "id": "3d8b1db3",
   "metadata": {},
   "source": [
    "#### Process the datasets\n"
   ]
  },
  {
   "cell_type": "code",
   "execution_count": 9,
   "id": "0adf7500",
   "metadata": {},
   "outputs": [
    {
     "ename": "IndexError",
     "evalue": "list index out of range",
     "output_type": "error",
     "traceback": [
      "\u001b[0;31m---------------------------------------------------------------------------\u001b[0m",
      "\u001b[0;31mIndexError\u001b[0m                                Traceback (most recent call last)",
      "Cell \u001b[0;32mIn[9], line 16\u001b[0m\n\u001b[1;32m     13\u001b[0m rat_code \u001b[38;5;241m=\u001b[39m re\u001b[38;5;241m.\u001b[39msearch(\u001b[38;5;124mr\u001b[39m\u001b[38;5;124m'\u001b[39m\u001b[38;5;124m([A-Z]*)_DNMP\u001b[39m\u001b[38;5;124m'\u001b[39m, f)\u001b[38;5;241m.\u001b[39mgroup(\u001b[38;5;241m1\u001b[39m)[\u001b[38;5;241m0\u001b[39m:\u001b[38;5;241m3\u001b[39m]\n\u001b[1;32m     15\u001b[0m \u001b[38;5;66;03m# Get necessary file paths\u001b[39;00m\n\u001b[0;32m---> 16\u001b[0m ripple_path \u001b[38;5;241m=\u001b[39m \u001b[38;5;28msorted\u001b[39m(glob\u001b[38;5;241m.\u001b[39mglob(os\u001b[38;5;241m.\u001b[39mpath\u001b[38;5;241m.\u001b[39mjoin(folder_path, \u001b[38;5;124m'\u001b[39m\u001b[38;5;124m*ripples.csv\u001b[39m\u001b[38;5;124m'\u001b[39m)))[\u001b[38;5;241m0\u001b[39m]\n\u001b[1;32m     17\u001b[0m position_path \u001b[38;5;241m=\u001b[39m \u001b[38;5;28msorted\u001b[39m(glob\u001b[38;5;241m.\u001b[39mglob(os\u001b[38;5;241m.\u001b[39mpath\u001b[38;5;241m.\u001b[39mjoin(folder_path, \u001b[38;5;124m'\u001b[39m\u001b[38;5;124mTimestamped_position\u001b[39m\u001b[38;5;124m'\u001b[39m, \u001b[38;5;124m'\u001b[39m\u001b[38;5;124m*_timestamped_position_df_clean.csv\u001b[39m\u001b[38;5;124m'\u001b[39m)))[\u001b[38;5;241m0\u001b[39m]\n\u001b[1;32m     18\u001b[0m cp_roi_path \u001b[38;5;241m=\u001b[39m \u001b[38;5;28msorted\u001b[39m(glob\u001b[38;5;241m.\u001b[39mglob(os\u001b[38;5;241m.\u001b[39mpath\u001b[38;5;241m.\u001b[39mjoin(folder_path,\u001b[38;5;124m'\u001b[39m\u001b[38;5;124mROIS\u001b[39m\u001b[38;5;124m'\u001b[39m, \u001b[38;5;124m'\u001b[39m\u001b[38;5;124m*cp_roi_converted.csv\u001b[39m\u001b[38;5;124m'\u001b[39m)))[\u001b[38;5;241m0\u001b[39m]\n",
      "\u001b[0;31mIndexError\u001b[0m: list index out of range"
     ]
    }
   ],
   "source": [
    "all_ripples=[]\n",
    "all_position=[]\n",
    "all_cp_rois=[]\n",
    "all_start_rois=[]\n",
    "all_rw1_rois=[]\n",
    "all_rw2_rois=[]\n",
    "\n",
    "for f in folders:\n",
    "    \n",
    "    folder_path = os.path.join(main_path, f)    \n",
    "    # Get rat and session codes to add to dataframe\n",
    "    session_code = re.search(r'trials_(\\d*)', f).group(1)\n",
    "    rat_code = re.search(r'([A-Z]*)_DNMP', f).group(1)[0:3]\n",
    "     \n",
    "    # Get necessary file paths\n",
    "    ripple_path = sorted(glob.glob(os.path.join(folder_path, '*ripples.csv')))[0]\n",
    "    position_path = sorted(glob.glob(os.path.join(folder_path, 'Timestamped_position', '*_timestamped_position_df_clean.csv')))[0]\n",
    "    cp_roi_path = sorted(glob.glob(os.path.join(folder_path,'ROIS', '*cp_roi_converted.csv')))[0]\n",
    "    start_roi_path = sorted(glob.glob(os.path.join(folder_path,'ROIS', '*start_roi_converted.csv')))[0]\n",
    "    rw1_roi_path = sorted(glob.glob(os.path.join(folder_path,'ROIS', '*rw1_roi_converted.csv')))[0]\n",
    "    rw2_roi_path = sorted(glob.glob(os.path.join(folder_path,'ROIS', '*rw2_roi_converted.csv')))[0]\n",
    "    \n",
    "    # Read the data files\n",
    "    ripple = pd.read_csv(ripple_path)\n",
    "    position = pd.read_csv(position_path)\n",
    "    cp_roi = pd.read_csv(cp_roi_path).drop(['Unnamed: 0'], axis=1)\n",
    "    start_roi = pd.read_csv(start_roi_path).drop(['Unnamed: 0'], axis=1)\n",
    "    rw1_roi = pd.read_csv(rw1_roi_path).drop(['Unnamed: 0'], axis=1)\n",
    "    rw2_roi = pd.read_csv(rw2_roi_path).drop(['Unnamed: 0'], axis=1)\n",
    "    \n",
    "    # find closest position point to ripple\n",
    "    closest = ripple['start_time'].apply(find_closest_xy_trial_nr_outcome_run_type, args=(position,))\n",
    "    \n",
    "    ripple_info = pd.concat([ripple, closest], axis=1)\n",
    "    \n",
    "    # Add rat conde and session code to each dataframe\n",
    "    for df in [ripple_info, position, cp_roi, start_roi]:\n",
    "        df['rat_code']=rat_code\n",
    "        df['session_code']=session_code\n",
    "\n",
    "    # Add data to list of all dataframes per type\n",
    "    all_ripples.append(ripple_info)\n",
    "    all_position.append(position)\n",
    "    all_cp_rois.append(cp_roi)\n",
    "    all_start_rois.append(start_roi)\n",
    "    all_rw1_rois.append(rw1_roi)\n",
    "    all_rw2_rois.append(rw2_roi)"
   ]
  },
  {
   "cell_type": "code",
   "execution_count": null,
   "id": "b8c2409f",
   "metadata": {},
   "outputs": [],
   "source": []
  },
  {
   "cell_type": "markdown",
   "id": "2ec6be25",
   "metadata": {},
   "source": [
    "#### Concatenate datasets into single dataframe"
   ]
  },
  {
   "cell_type": "code",
   "execution_count": null,
   "id": "fc3c63fd",
   "metadata": {},
   "outputs": [],
   "source": [
    "# Transform list of dataframes into a single dataframe\n",
    "ripples = pd.concat(all_ripples)\n",
    "position = pd.concat(all_position)\n",
    "cp_rois = pd.concat(all_cp_rois)\n",
    "start_rois=pd.concat(all_start_rois)\n",
    "rw1_rois=pd.concat(all_rw1_rois)\n",
    "rw2_rois=pd.concat(all_rw2_rois)"
   ]
  },
  {
   "cell_type": "code",
   "execution_count": null,
   "id": "0045a298",
   "metadata": {},
   "outputs": [],
   "source": [
    "ripples.head()"
   ]
  },
  {
   "cell_type": "markdown",
   "id": "64bd7620",
   "metadata": {},
   "source": [
    "<br>\n",
    "\n",
    "\n",
    "\n",
    "## Curate ripples\n",
    "<br>\n",
    "\n",
    "#### Remove ripples if start time occurrs before or after first and final timestamps of position dataset or during transport periods.\n",
    "That means those ripples occurred before, after the behavioral session or between runs"
   ]
  },
  {
   "cell_type": "code",
   "execution_count": null,
   "id": "4066f811",
   "metadata": {},
   "outputs": [],
   "source": [
    "trial_timestamps = position.groupby(['session_code', 'trial_nr']).timestamp.agg(['min', 'max']).reset_index()\n",
    "trial_timestamps.head()"
   ]
  },
  {
   "cell_type": "code",
   "execution_count": null,
   "id": "8e2bf75f",
   "metadata": {},
   "outputs": [],
   "source": [
    "ripples = ripples.apply(remove_ripples_outside_trials, args=(trial_timestamps,), axis=1)\n",
    "# How many ripples are trial bound? How many are not\n",
    "ripples.groupby(['trial_bound'])['start_time'].count()"
   ]
  },
  {
   "cell_type": "code",
   "execution_count": null,
   "id": "f4a54ca8",
   "metadata": {},
   "outputs": [],
   "source": [
    "# Drop outbound ripples\n",
    "ripples = ripples[ripples.trial_bound==True]"
   ]
  },
  {
   "cell_type": "markdown",
   "id": "4f982e96",
   "metadata": {},
   "source": [
    "<br>\n",
    "\n",
    "\n",
    "#### Get xy position at ripple start time\n",
    "\n",
    "Get the two closest/adjacent position points to the ripple start time (we already have the closest but not both). Based on these two points, we calculate the approximate x in which the rat was at the start of ripple occurrence."
   ]
  },
  {
   "cell_type": "code",
   "execution_count": null,
   "id": "0edf9b14",
   "metadata": {
    "scrolled": true
   },
   "outputs": [],
   "source": [
    "ripples = ripples.apply(calculate_xy_at_ripple_time, args=(position,), axis=1)"
   ]
  },
  {
   "cell_type": "code",
   "execution_count": null,
   "id": "7f706256",
   "metadata": {},
   "outputs": [],
   "source": [
    "ripples = ripples[['start_time', 'end_time', \n",
    "         'trial_nr', 'outcome', \n",
    "         'run_type', 'rat_code', \n",
    "         'session_code', 'x_ripple', 'y_ripple']]"
   ]
  },
  {
   "cell_type": "code",
   "execution_count": null,
   "id": "1c2d1037",
   "metadata": {},
   "outputs": [],
   "source": [
    "# select a few ripples and check if data makes sense\n",
    "ripples.head()"
   ]
  },
  {
   "cell_type": "code",
   "execution_count": null,
   "id": "27a13a83",
   "metadata": {},
   "outputs": [],
   "source": [
    "ripples.to_csv(os.path.join(main_path, 'clean_ripples.csv'), index=False)\n",
    "position.to_csv(os.path.join(main_path, 'position.csv'), index=False)\n",
    "cp_rois.to_csv(os.path.join(main_path, 'cp_rois.csv'), index=False)\n",
    "start_rois.to_csv(os.path.join(main_path, 'start_rois.csv'), index=False)\n",
    "rw1_rois.to_csv(os.path.join(main_path, 'rw1_rois.csv'), index=False)\n",
    "rw2_rois.to_csv(os.path.join(main_path, 'rw2_rois.csv'), index=False)"
   ]
  },
  {
   "cell_type": "code",
   "execution_count": null,
   "id": "a79af0c9",
   "metadata": {},
   "outputs": [],
   "source": []
  }
 ],
 "metadata": {
  "kernelspec": {
   "display_name": "Python 3 (ipykernel)",
   "language": "python",
   "name": "python3"
  },
  "language_info": {
   "codemirror_mode": {
    "name": "ipython",
    "version": 3
   },
   "file_extension": ".py",
   "mimetype": "text/x-python",
   "name": "python",
   "nbconvert_exporter": "python",
   "pygments_lexer": "ipython3",
   "version": "3.11.5"
  }
 },
 "nbformat": 4,
 "nbformat_minor": 5
}
